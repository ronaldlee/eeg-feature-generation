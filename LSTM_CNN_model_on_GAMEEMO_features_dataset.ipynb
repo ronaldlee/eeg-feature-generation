{
 "cells": [
  {
   "cell_type": "code",
   "execution_count": 1,
   "id": "2f620c09",
   "metadata": {},
   "outputs": [
    {
     "name": "stderr",
     "output_type": "stream",
     "text": [
      "2022-07-10 22:09:05.816815: I tensorflow/stream_executor/platform/default/dso_loader.cc:49] Successfully opened dynamic library libcudart.so.10.1\n"
     ]
    }
   ],
   "source": [
    "import numpy as np\n",
    "import pandas as pd\n",
    "from sklearn.model_selection import train_test_split\n",
    "import tensorflow as tf\n",
    "from tensorflow import keras\n",
    "from tensorflow.keras.layers import Dense, Activation, Flatten, concatenate, Input, Dropout, LSTM, Bidirectional,BatchNormalization,PReLU,ReLU,Reshape\n",
    "from tensorflow.keras.callbacks import EarlyStopping, ModelCheckpoint\n",
    "from tensorflow.keras.models import Sequential, Model, load_model\n",
    "from matplotlib import pyplot as plt\n",
    "# from w207_util import *\n"
   ]
  },
  {
   "cell_type": "code",
   "execution_count": 3,
   "id": "800a1c40",
   "metadata": {},
   "outputs": [
    {
     "name": "stdout",
     "output_type": "stream",
     "text": [
      "Shape of data:  (40071, 3446)\n"
     ]
    }
   ],
   "source": [
    "dataset = pd.read_csv('csv/out_gameemo.csv',  sep=',')\n",
    "\n",
    "print('Shape of data: ', dataset.shape)"
   ]
  },
  {
   "cell_type": "code",
   "execution_count": 4,
   "id": "d9eb7d0d",
   "metadata": {},
   "outputs": [
    {
     "name": "stdout",
     "output_type": "stream",
     "text": [
      "   lag1_mean_0  lag1_mean_1  lag1_mean_2  lag1_mean_3  lag1_mean_4  \\\n",
      "0     0.165685    -0.852441     0.305529     0.069311    -0.820157   \n",
      "1    -1.280358    -3.529726     1.199699    -1.149790     0.738967   \n",
      "2     1.830922    -1.242559     0.019590    -0.955141     4.069830   \n",
      "3     0.726474    -0.013534     3.577241    -1.806816     0.604612   \n",
      "4    -0.338823     0.202537    -0.062122    -1.623981    -0.346947   \n",
      "\n",
      "   lag1_mean_5  lag1_mean_6  lag1_mean_7  lag1_mean_8  lag1_mean_9  ...  \\\n",
      "0     0.671192    -0.889876     0.491933    -0.284130     0.031775  ...   \n",
      "1    -4.185435    -1.864589    -0.710929     2.279327     0.201870  ...   \n",
      "2    -8.934466     0.863457     1.437240    -1.496749     0.993456  ...   \n",
      "3    -0.489957     0.936905    -2.145070    -0.171676    -0.505224  ...   \n",
      "4    -0.717592    -1.123954    -1.435684     0.115600    -1.780939  ...   \n",
      "\n",
      "   freq_669_12  freq_679_12  freq_689_12  freq_699_12  freq_709_12  \\\n",
      "0     0.010112     0.002127     0.010123     0.004699     0.003033   \n",
      "1     0.005829     0.003433     0.004874     0.005820     0.006687   \n",
      "2     0.006117     0.001497     0.001546     0.003125     0.001843   \n",
      "3     0.006868     0.007770     0.005496     0.006147     0.006058   \n",
      "4     0.015303     0.015246     0.012165     0.007093     0.005732   \n",
      "\n",
      "   freq_720_12  freq_730_12  freq_740_12  freq_750_12  Label  \n",
      "0     0.003067     0.003990     0.000784     0.004331  HA_NV  \n",
      "1     0.006809     0.004600     0.006350     0.004204  LA_PV  \n",
      "2     0.002145     0.001894     0.003016     0.001862  LA_NV  \n",
      "3     0.005706     0.003665     0.002062     0.005097  HA_PV  \n",
      "4     0.007846     0.006156     0.023414     0.009717  LA_NV  \n",
      "\n",
      "[5 rows x 3446 columns]\n",
      "Shape of data:  (40071, 3446)\n",
      "features.shape:  (40071, 3445)\n",
      "label.shape:  (40071, 1)\n",
      "Index(['lag1_mean_0', 'lag1_mean_1', 'lag1_mean_2', 'lag1_mean_3',\n",
      "       'lag1_mean_4', 'lag1_mean_5', 'lag1_mean_6', 'lag1_mean_7',\n",
      "       'lag1_mean_8', 'lag1_mean_9',\n",
      "       ...\n",
      "       'freq_669_12', 'freq_679_12', 'freq_689_12', 'freq_699_12',\n",
      "       'freq_709_12', 'freq_720_12', 'freq_730_12', 'freq_740_12',\n",
      "       'freq_750_12', 'Label'],\n",
      "      dtype='object', length=3446)\n"
     ]
    }
   ],
   "source": [
    "\n",
    "init_df = dataset.copy()\n",
    "\n",
    "#HA_PV = high arousal, positive valence\n",
    "#HA_NV = high arousal, negative valence\n",
    "#LA_NV = low arousal, negative valence\n",
    "#LA_PV = low arousal, positive valance\n",
    "label_map = {1:\"HA_PV\", 2:\"HA_NV\", 3:\"LA_NV\", 4:\"LA_PV\"}\n",
    "\n",
    "init_df[\"Label\"] = init_df[\"Label\"].map(label_map)\n",
    "\n",
    "print(init_df.head())\n",
    "\n",
    "features = init_df.iloc[:, :-1]\n",
    "label = init_df.iloc[:, -1:]\n",
    "\n",
    "print('Shape of data: ', init_df.shape)\n",
    "print('features.shape: ', features.shape)\n",
    "print('label.shape: ', label.shape)\n",
    "\n",
    "init_df.head()\n",
    "print(init_df.columns)\n",
    "\n",
    "\n",
    "y = label\n",
    "X = features\n",
    "\n",
    "X_train, X_validate, y_train, y_validate = train_test_split(X, y, train_size=0.6, random_state=48)\n",
    "\n",
    "X_validate, X_test, y_validate, y_test = train_test_split(X_validate, y_validate, train_size=0.5, random_state=48)\n",
    "\n",
    "X_train = np.array(X_train).reshape((X_train.shape[0],X_train.shape[1],1))\n",
    "X_validate = np.array(X_validate).reshape((X_validate.shape[0],X_test.shape[1],1))\n",
    "X_test = np.array(X_test).reshape((X_test.shape[0],X_test.shape[1],1))\n",
    "\n",
    "y_train = pd.get_dummies(y_train)\n",
    "y_validate = pd.get_dummies(y_validate)\n",
    "y_test = pd.get_dummies(y_test)\n",
    "\n"
   ]
  },
  {
   "cell_type": "code",
   "execution_count": 5,
   "id": "c2fa0f2b",
   "metadata": {},
   "outputs": [],
   "source": [
    "def train_model(x_train, y_train,x_validate, y_validate,\n",
    "                save_to, epoch = 2):\n",
    "    strategy = tf.distribute.MirroredStrategy(devices=None)\n",
    "    print('Number of devices: {}'.format(strategy.num_replicas_in_sync))\n",
    "    \n",
    "    tf.keras.backend.clear_session()\n",
    "    tf.random.set_seed(0)\n",
    "    \n",
    "    with strategy.scope():   \n",
    "        model = Sequential()\n",
    "        \n",
    "        model.add(LSTM(256, return_sequences=True))\n",
    "        \n",
    "        model.add(tf.keras.layers.Conv1D(\n",
    "            filters=32,                \n",
    "            kernel_size=3,\n",
    "            strides=1,\n",
    "            padding='same',\n",
    "            data_format='channels_last',\n",
    "            name='conv_1',\n",
    "            activation='relu'))\n",
    "        \n",
    "        model.add(tf.keras.layers.MaxPool1D(\n",
    "            pool_size=2,\n",
    "            name='pool_1'))\n",
    "        \n",
    "        # add second convolutional layer\n",
    "        model.add(tf.keras.layers.Conv1D(\n",
    "            filters=64,\n",
    "            kernel_size=3,\n",
    "            strides=1,\n",
    "            padding='same',\n",
    "            name='conv_2',\n",
    "            activation='relu'))\n",
    "\n",
    "        model.add(tf.keras.layers.MaxPool1D(\n",
    "            pool_size=2, \n",
    "            name='pool_2')\n",
    "        )\n",
    "        \n",
    "        model.add(Flatten()) \n",
    "        \n",
    "        # Add Dense layer\n",
    "        model.add(tf.keras.layers.Dense(\n",
    "            units=1024,\n",
    "            name='fc_1', \n",
    "            activation='relu'))\n",
    "\n",
    "        # add dropout layer\n",
    "        model.add(tf.keras.layers.Dropout(\n",
    "            rate=0.5))\n",
    "        \n",
    "#         model.add(tf.keras.layers.Dense(\n",
    "#         units=512,\n",
    "#         name='fc_2', \n",
    "#         activation='relu'))\n",
    "\n",
    "#         # add dropout layer\n",
    "#         model.add(tf.keras.layers.Dropout(\n",
    "#             rate=0.5))\n",
    "\n",
    "        model.add(Dense(4))\n",
    "        model.add(Activation('softmax'))   \n",
    "\n",
    "        model.build(input_shape=(None, X_train.shape[1], 1))\n",
    "        model.summary()\n",
    "        tf.keras.utils.plot_model(model)\n",
    "\n",
    "        opt_adam = keras.optimizers.Adam(learning_rate=0.001)\n",
    "\n",
    "        es = EarlyStopping(monitor='val_loss', mode='min', verbose=1, patience=10)\n",
    "        mc = ModelCheckpoint(save_to + '_best_model_lstm_all_cat.h5', monitor='val_accuracy', mode='max', verbose=1, save_best_only=True)\n",
    "            \n",
    "        lr_schedule = tf.keras.callbacks.LearningRateScheduler(lambda epoch: 0.001 * np.exp(-epoch / 10.))\n",
    "            \n",
    "        model.compile(optimizer=opt_adam,\n",
    "                      loss=['categorical_crossentropy'],\n",
    "                      metrics=['accuracy'])\n",
    "        \n",
    "    history = model.fit(x_train,y_train,\n",
    "                        batch_size=32,\n",
    "                        epochs=epoch,\n",
    "                        validation_data=(x_validate, y_validate),\n",
    "                        callbacks=[es,mc,lr_schedule])\n",
    "        \n",
    "    saved_model = load_model(save_to + '_best_model_lstm_all_cat.h5')\n",
    "        \n",
    "    return model,history\n"
   ]
  },
  {
   "cell_type": "code",
   "execution_count": 7,
   "id": "913c157a",
   "metadata": {},
   "outputs": [
    {
     "name": "stdout",
     "output_type": "stream",
     "text": [
      "INFO:tensorflow:Using MirroredStrategy with devices ('/job:localhost/replica:0/task:0/device:GPU:0', '/job:localhost/replica:0/task:0/device:GPU:1')\n"
     ]
    },
    {
     "name": "stderr",
     "output_type": "stream",
     "text": [
      "2022-07-10 22:11:10.085249: I tensorflow/compiler/jit/xla_gpu_device.cc:99] Not creating XLA devices, tf_xla_enable_xla_devices not set\n",
      "2022-07-10 22:11:10.087546: I tensorflow/core/common_runtime/gpu/gpu_device.cc:1720] Found device 0 with properties: \n",
      "pciBusID: 0000:67:00.0 name: GeForce RTX 2080 Ti computeCapability: 7.5\n",
      "coreClock: 1.545GHz coreCount: 68 deviceMemorySize: 10.76GiB deviceMemoryBandwidth: 573.69GiB/s\n",
      "2022-07-10 22:11:10.089671: I tensorflow/core/common_runtime/gpu/gpu_device.cc:1720] Found device 1 with properties: \n",
      "pciBusID: 0000:68:00.0 name: GeForce RTX 2080 Ti computeCapability: 7.5\n",
      "coreClock: 1.545GHz coreCount: 68 deviceMemorySize: 10.76GiB deviceMemoryBandwidth: 573.69GiB/s\n",
      "2022-07-10 22:11:10.089822: I tensorflow/stream_executor/platform/default/dso_loader.cc:49] Successfully opened dynamic library libcudart.so.10.1\n",
      "2022-07-10 22:11:10.089898: I tensorflow/stream_executor/platform/default/dso_loader.cc:49] Successfully opened dynamic library libcublas.so.10\n",
      "2022-07-10 22:11:10.089945: I tensorflow/stream_executor/platform/default/dso_loader.cc:49] Successfully opened dynamic library libcublasLt.so.10\n",
      "2022-07-10 22:11:10.089988: I tensorflow/stream_executor/platform/default/dso_loader.cc:49] Successfully opened dynamic library libcufft.so.10\n",
      "2022-07-10 22:11:10.090032: I tensorflow/stream_executor/platform/default/dso_loader.cc:49] Successfully opened dynamic library libcurand.so.10\n",
      "2022-07-10 22:11:10.090074: I tensorflow/stream_executor/platform/default/dso_loader.cc:49] Successfully opened dynamic library libcusolver.so.10\n",
      "2022-07-10 22:11:10.090118: I tensorflow/stream_executor/platform/default/dso_loader.cc:49] Successfully opened dynamic library libcusparse.so.10\n",
      "2022-07-10 22:11:10.090162: I tensorflow/stream_executor/platform/default/dso_loader.cc:49] Successfully opened dynamic library libcudnn.so.7\n",
      "2022-07-10 22:11:10.094191: I tensorflow/core/common_runtime/gpu/gpu_device.cc:1862] Adding visible gpu devices: 0, 1\n",
      "2022-07-10 22:11:10.826462: I tensorflow/core/common_runtime/gpu/gpu_device.cc:1261] Device interconnect StreamExecutor with strength 1 edge matrix:\n",
      "2022-07-10 22:11:10.826487: I tensorflow/core/common_runtime/gpu/gpu_device.cc:1267]      0 1 \n",
      "2022-07-10 22:11:10.826491: I tensorflow/core/common_runtime/gpu/gpu_device.cc:1280] 0:   N Y \n",
      "2022-07-10 22:11:10.826495: I tensorflow/core/common_runtime/gpu/gpu_device.cc:1280] 1:   Y N \n",
      "2022-07-10 22:11:10.828635: I tensorflow/core/common_runtime/gpu/gpu_device.cc:1406] Created TensorFlow device (/job:localhost/replica:0/task:0/device:GPU:0 with 10043 MB memory) -> physical GPU (device: 0, name: GeForce RTX 2080 Ti, pci bus id: 0000:67:00.0, compute capability: 7.5)\n",
      "2022-07-10 22:11:10.829878: I tensorflow/core/common_runtime/gpu/gpu_device.cc:1406] Created TensorFlow device (/job:localhost/replica:0/task:0/device:GPU:1 with 9823 MB memory) -> physical GPU (device: 1, name: GeForce RTX 2080 Ti, pci bus id: 0000:68:00.0, compute capability: 7.5)\n"
     ]
    },
    {
     "name": "stdout",
     "output_type": "stream",
     "text": [
      "Number of devices: 2\n",
      "Model: \"sequential\"\n",
      "_________________________________________________________________\n",
      "Layer (type)                 Output Shape              Param #   \n",
      "=================================================================\n",
      "lstm (LSTM)                  (None, 3445, 256)         264192    \n",
      "_________________________________________________________________\n",
      "conv_1 (Conv1D)              (None, 3445, 32)          24608     \n",
      "_________________________________________________________________\n",
      "pool_1 (MaxPooling1D)        (None, 1722, 32)          0         \n",
      "_________________________________________________________________\n",
      "conv_2 (Conv1D)              (None, 1722, 64)          6208      \n",
      "_________________________________________________________________\n",
      "pool_2 (MaxPooling1D)        (None, 861, 64)           0         \n",
      "_________________________________________________________________\n",
      "flatten (Flatten)            (None, 55104)             0         \n",
      "_________________________________________________________________\n",
      "fc_1 (Dense)                 (None, 1024)              56427520  \n",
      "_________________________________________________________________\n",
      "dropout (Dropout)            (None, 1024)              0         \n",
      "_________________________________________________________________\n",
      "dense (Dense)                (None, 4)                 4100      \n",
      "_________________________________________________________________\n",
      "activation (Activation)      (None, 4)                 0         \n",
      "=================================================================\n",
      "Total params: 56,726,628\n",
      "Trainable params: 56,726,628\n",
      "Non-trainable params: 0\n",
      "_________________________________________________________________\n",
      "INFO:tensorflow:Reduce to /job:localhost/replica:0/task:0/device:CPU:0 then broadcast to ('/job:localhost/replica:0/task:0/device:CPU:0',).\n",
      "INFO:tensorflow:Reduce to /job:localhost/replica:0/task:0/device:CPU:0 then broadcast to ('/job:localhost/replica:0/task:0/device:CPU:0',).\n",
      "INFO:tensorflow:Reduce to /job:localhost/replica:0/task:0/device:CPU:0 then broadcast to ('/job:localhost/replica:0/task:0/device:CPU:0',).\n",
      "INFO:tensorflow:Reduce to /job:localhost/replica:0/task:0/device:CPU:0 then broadcast to ('/job:localhost/replica:0/task:0/device:CPU:0',).\n"
     ]
    },
    {
     "name": "stderr",
     "output_type": "stream",
     "text": [
      "2022-07-10 22:11:11.970052: W tensorflow/core/grappler/optimizers/data/auto_shard.cc:656] In AUTO-mode, and switching to DATA-based sharding, instead of FILE-based sharding as we cannot find appropriate reader dataset op(s) to shard. Error: Did not find a shardable source, walked to a node which is not a dataset: name: \"FlatMapDataset/_9\"\n",
      "op: \"FlatMapDataset\"\n",
      "input: \"PrefetchDataset/_8\"\n",
      "attr {\n",
      "  key: \"Targuments\"\n",
      "  value {\n",
      "    list {\n",
      "    }\n",
      "  }\n",
      "}\n",
      "attr {\n",
      "  key: \"f\"\n",
      "  value {\n",
      "    func {\n",
      "      name: \"__inference_Dataset_flat_map_slice_batch_indices_805\"\n",
      "    }\n",
      "  }\n",
      "}\n",
      "attr {\n",
      "  key: \"output_shapes\"\n",
      "  value {\n",
      "    list {\n",
      "      shape {\n",
      "        dim {\n",
      "          size: -1\n",
      "        }\n",
      "      }\n",
      "    }\n",
      "  }\n",
      "}\n",
      "attr {\n",
      "  key: \"output_types\"\n",
      "  value {\n",
      "    list {\n",
      "      type: DT_INT64\n",
      "    }\n",
      "  }\n",
      "}\n",
      ". Consider either turning off auto-sharding or switching the auto_shard_policy to DATA to shard this dataset. You can do this by creating a new `tf.data.Options()` object then setting `options.experimental_distribute.auto_shard_policy = AutoShardPolicy.DATA` before applying the options object to the dataset via `dataset.with_options(options)`.\n",
      "2022-07-10 22:11:11.984111: I tensorflow/compiler/mlir/mlir_graph_optimization_pass.cc:116] None of the MLIR optimization passes are enabled (registered 2)\n",
      "2022-07-10 22:11:12.004920: I tensorflow/core/platform/profile_utils/cpu_utils.cc:112] CPU Frequency: 3299990000 Hz\n"
     ]
    },
    {
     "name": "stdout",
     "output_type": "stream",
     "text": [
      "Epoch 1/40\n",
      "INFO:tensorflow:batch_all_reduce: 11 all-reduces with algorithm = nccl, num_packs = 1\n",
      "INFO:tensorflow:Reduce to /job:localhost/replica:0/task:0/device:CPU:0 then broadcast to ('/job:localhost/replica:0/task:0/device:CPU:0',).\n",
      "INFO:tensorflow:Reduce to /job:localhost/replica:0/task:0/device:CPU:0 then broadcast to ('/job:localhost/replica:0/task:0/device:CPU:0',).\n",
      "INFO:tensorflow:Reduce to /job:localhost/replica:0/task:0/device:CPU:0 then broadcast to ('/job:localhost/replica:0/task:0/device:CPU:0',).\n",
      "INFO:tensorflow:Reduce to /job:localhost/replica:0/task:0/device:CPU:0 then broadcast to ('/job:localhost/replica:0/task:0/device:CPU:0',).\n",
      "INFO:tensorflow:batch_all_reduce: 11 all-reduces with algorithm = nccl, num_packs = 1\n",
      "INFO:tensorflow:Reduce to /job:localhost/replica:0/task:0/device:CPU:0 then broadcast to ('/job:localhost/replica:0/task:0/device:CPU:0',).\n",
      "INFO:tensorflow:Reduce to /job:localhost/replica:0/task:0/device:CPU:0 then broadcast to ('/job:localhost/replica:0/task:0/device:CPU:0',).\n"
     ]
    },
    {
     "name": "stderr",
     "output_type": "stream",
     "text": [
      "2022-07-10 22:11:16.358961: I tensorflow/stream_executor/platform/default/dso_loader.cc:49] Successfully opened dynamic library libcublas.so.10\n",
      "2022-07-10 22:11:16.758638: I tensorflow/stream_executor/platform/default/dso_loader.cc:49] Successfully opened dynamic library libcudnn.so.7\n"
     ]
    },
    {
     "name": "stdout",
     "output_type": "stream",
     "text": [
      "752/752 [==============================] - ETA: 0s - loss: 1.3741 - accuracy: 0.3945"
     ]
    },
    {
     "name": "stderr",
     "output_type": "stream",
     "text": [
      "2022-07-10 22:13:14.485070: W tensorflow/core/grappler/optimizers/data/auto_shard.cc:656] In AUTO-mode, and switching to DATA-based sharding, instead of FILE-based sharding as we cannot find appropriate reader dataset op(s) to shard. Error: Did not find a shardable source, walked to a node which is not a dataset: name: \"FlatMapDataset/_9\"\n",
      "op: \"FlatMapDataset\"\n",
      "input: \"PrefetchDataset/_8\"\n",
      "attr {\n",
      "  key: \"Targuments\"\n",
      "  value {\n",
      "    list {\n",
      "    }\n",
      "  }\n",
      "}\n",
      "attr {\n",
      "  key: \"f\"\n",
      "  value {\n",
      "    func {\n",
      "      name: \"__inference_Dataset_flat_map_slice_batch_indices_8346\"\n",
      "    }\n",
      "  }\n",
      "}\n",
      "attr {\n",
      "  key: \"output_shapes\"\n",
      "  value {\n",
      "    list {\n",
      "      shape {\n",
      "        dim {\n",
      "          size: -1\n",
      "        }\n",
      "      }\n",
      "    }\n",
      "  }\n",
      "}\n",
      "attr {\n",
      "  key: \"output_types\"\n",
      "  value {\n",
      "    list {\n",
      "      type: DT_INT64\n",
      "    }\n",
      "  }\n",
      "}\n",
      ". Consider either turning off auto-sharding or switching the auto_shard_policy to DATA to shard this dataset. You can do this by creating a new `tf.data.Options()` object then setting `options.experimental_distribute.auto_shard_policy = AutoShardPolicy.DATA` before applying the options object to the dataset via `dataset.with_options(options)`.\n"
     ]
    },
    {
     "name": "stdout",
     "output_type": "stream",
     "text": [
      "752/752 [==============================] - 138s 175ms/step - loss: 1.3738 - accuracy: 0.3946 - val_loss: 0.8303 - val_accuracy: 0.6477\n",
      "\n",
      "Epoch 00001: val_accuracy improved from -inf to 0.64774, saving model to ./_best_model_lstm_all_cat.h5\n",
      "Epoch 2/40\n",
      "752/752 [==============================] - 130s 173ms/step - loss: 0.7931 - accuracy: 0.6689 - val_loss: 0.6793 - val_accuracy: 0.7230\n",
      "\n",
      "Epoch 00002: val_accuracy improved from 0.64774 to 0.72298, saving model to ./_best_model_lstm_all_cat.h5\n",
      "Epoch 3/40\n",
      "752/752 [==============================] - 130s 172ms/step - loss: 0.5188 - accuracy: 0.7964 - val_loss: 0.5965 - val_accuracy: 0.7702\n",
      "\n",
      "Epoch 00003: val_accuracy improved from 0.72298 to 0.77015, saving model to ./_best_model_lstm_all_cat.h5\n",
      "Epoch 4/40\n",
      "752/752 [==============================] - 130s 173ms/step - loss: 0.3381 - accuracy: 0.8721 - val_loss: 0.5402 - val_accuracy: 0.7914\n",
      "\n",
      "Epoch 00004: val_accuracy improved from 0.77015 to 0.79137, saving model to ./_best_model_lstm_all_cat.h5\n",
      "Epoch 5/40\n",
      "752/752 [==============================] - 130s 173ms/step - loss: 0.2110 - accuracy: 0.9208 - val_loss: 0.5750 - val_accuracy: 0.8003\n",
      "\n",
      "Epoch 00005: val_accuracy improved from 0.79137 to 0.80035, saving model to ./_best_model_lstm_all_cat.h5\n",
      "Epoch 6/40\n",
      "752/752 [==============================] - 130s 173ms/step - loss: 0.1351 - accuracy: 0.9520 - val_loss: 0.5964 - val_accuracy: 0.8047\n",
      "\n",
      "Epoch 00006: val_accuracy improved from 0.80035 to 0.80472, saving model to ./_best_model_lstm_all_cat.h5\n",
      "Epoch 7/40\n",
      "752/752 [==============================] - 130s 172ms/step - loss: 0.1066 - accuracy: 0.9638 - val_loss: 0.5943 - val_accuracy: 0.8181\n",
      "\n",
      "Epoch 00007: val_accuracy improved from 0.80472 to 0.81807, saving model to ./_best_model_lstm_all_cat.h5\n",
      "Epoch 8/40\n",
      "752/752 [==============================] - 130s 173ms/step - loss: 0.0747 - accuracy: 0.9746 - val_loss: 0.6261 - val_accuracy: 0.8126\n",
      "\n",
      "Epoch 00008: val_accuracy did not improve from 0.81807\n",
      "Epoch 9/40\n",
      "752/752 [==============================] - 130s 173ms/step - loss: 0.0578 - accuracy: 0.9812 - val_loss: 0.6606 - val_accuracy: 0.8203\n",
      "\n",
      "Epoch 00009: val_accuracy improved from 0.81807 to 0.82031, saving model to ./_best_model_lstm_all_cat.h5\n",
      "Epoch 10/40\n",
      "752/752 [==============================] - 131s 174ms/step - loss: 0.0455 - accuracy: 0.9845 - val_loss: 0.7808 - val_accuracy: 0.8166\n",
      "\n",
      "Epoch 00010: val_accuracy did not improve from 0.82031\n",
      "Epoch 11/40\n",
      "752/752 [==============================] - 131s 174ms/step - loss: 0.0377 - accuracy: 0.9871 - val_loss: 0.6886 - val_accuracy: 0.8251\n",
      "\n",
      "Epoch 00011: val_accuracy improved from 0.82031 to 0.82506, saving model to ./_best_model_lstm_all_cat.h5\n",
      "Epoch 12/40\n",
      "752/752 [==============================] - 131s 174ms/step - loss: 0.0311 - accuracy: 0.9897 - val_loss: 0.7235 - val_accuracy: 0.8312\n",
      "\n",
      "Epoch 00012: val_accuracy improved from 0.82506 to 0.83117, saving model to ./_best_model_lstm_all_cat.h5\n",
      "Epoch 13/40\n",
      "752/752 [==============================] - 131s 174ms/step - loss: 0.0313 - accuracy: 0.9889 - val_loss: 0.7073 - val_accuracy: 0.8274\n",
      "\n",
      "Epoch 00013: val_accuracy did not improve from 0.83117\n",
      "Epoch 14/40\n",
      "752/752 [==============================] - 131s 174ms/step - loss: 0.0225 - accuracy: 0.9913 - val_loss: 0.7405 - val_accuracy: 0.8308\n",
      "\n",
      "Epoch 00014: val_accuracy did not improve from 0.83117\n",
      "Epoch 00014: early stopping\n"
     ]
    }
   ],
   "source": [
    "\n",
    "model,history = train_model(X_train, y_train, X_validate, y_validate, save_to= './', epoch = 40)"
   ]
  },
  {
   "cell_type": "code",
   "execution_count": 8,
   "id": "8ef9c270",
   "metadata": {},
   "outputs": [],
   "source": [
    "def plot_loss_history(history):\n",
    "  plt.ylabel('Loss')\n",
    "  plt.xlabel('Epoch')\n",
    "  plt.xticks(range(0, len(history['loss'] + 1)))\n",
    "  plt.plot(history['loss'], label=\"training\", marker='o')\n",
    "  plt.plot(history['val_loss'], label=\"validation\", marker='o')\n",
    "  plt.legend()\n",
    "  plt.show()\n",
    "\n",
    "def plot_accuracy_history(history):\n",
    "  plt.ylabel('Accuracy')\n",
    "  plt.xlabel('Epoch')\n",
    "  plt.xticks(range(0, len(history['accuracy'] + 1)))\n",
    "  plt.plot(history['accuracy'], label=\"training\", marker='o')\n",
    "  plt.plot(history['val_accuracy'], label=\"validation\", marker='o')\n",
    "  plt.legend()\n",
    "  plt.show()"
   ]
  },
  {
   "cell_type": "code",
   "execution_count": 10,
   "id": "f7a9db71",
   "metadata": {},
   "outputs": [
    {
     "data": {
      "image/png": "[encoded data removed]",
      "text/plain": [
       "<Figure size 432x288 with 1 Axes>"
      ]
     },
     "metadata": {
      "needs_background": "light"
     },
     "output_type": "display_data"
    },
    {
     "data": {
      "image/png": "[encoded data removed]",
      "text/plain": [
       "<Figure size 432x288 with 1 Axes>"
      ]
     },
     "metadata": {
      "needs_background": "light"
     },
     "output_type": "display_data"
    }
   ],
   "source": [
    "# don't plot, big image data to commit to git.\n",
    "history_data = pd.DataFrame(history.history)\n",
    "plot_loss_history(history_data)\n",
    "plot_accuracy_history(history_data)"
   ]
  },
  {
   "cell_type": "code",
   "execution_count": 9,
   "id": "b23cd0f1",
   "metadata": {},
   "outputs": [
    {
     "name": "stdout",
     "output_type": "stream",
     "text": [
      "\r",
      "  1/251 [..............................] - ETA: 35s - loss: 0.6500 - accuracy: 0.7812"
     ]
    },
    {
     "name": "stderr",
     "output_type": "stream",
     "text": [
      "2022-07-10 22:46:17.118388: W tensorflow/core/grappler/optimizers/data/auto_shard.cc:656] In AUTO-mode, and switching to DATA-based sharding, instead of FILE-based sharding as we cannot find appropriate reader dataset op(s) to shard. Error: Did not find a shardable source, walked to a node which is not a dataset: name: \"FlatMapDataset/_9\"\n",
      "op: \"FlatMapDataset\"\n",
      "input: \"PrefetchDataset/_8\"\n",
      "attr {\n",
      "  key: \"Targuments\"\n",
      "  value {\n",
      "    list {\n",
      "    }\n",
      "  }\n",
      "}\n",
      "attr {\n",
      "  key: \"f\"\n",
      "  value {\n",
      "    func {\n",
      "      name: \"__inference_Dataset_flat_map_slice_batch_indices_40674\"\n",
      "    }\n",
      "  }\n",
      "}\n",
      "attr {\n",
      "  key: \"output_shapes\"\n",
      "  value {\n",
      "    list {\n",
      "      shape {\n",
      "        dim {\n",
      "          size: -1\n",
      "        }\n",
      "      }\n",
      "    }\n",
      "  }\n",
      "}\n",
      "attr {\n",
      "  key: \"output_types\"\n",
      "  value {\n",
      "    list {\n",
      "      type: DT_INT64\n",
      "    }\n",
      "  }\n",
      "}\n",
      ". Consider either turning off auto-sharding or switching the auto_shard_policy to DATA to shard this dataset. You can do this by creating a new `tf.data.Options()` object then setting `options.experimental_distribute.auto_shard_policy = AutoShardPolicy.DATA` before applying the options object to the dataset via `dataset.with_options(options)`.\n"
     ]
    },
    {
     "name": "stdout",
     "output_type": "stream",
     "text": [
      "251/251 [==============================] - 15s 59ms/step - loss: 0.7108 - accuracy: 0.8341\n",
      "\n",
      "Test Acc. 83.41%\n"
     ]
    }
   ],
   "source": [
    "# test model\n",
    "test_results = model.evaluate(X_test, y_test)\n",
    "print('\\nTest Acc. {:.2f}%'.format(test_results[1]*100))"
   ]
  },
  {
   "cell_type": "code",
   "execution_count": null,
   "id": "3961c6b3",
   "metadata": {},
   "outputs": [],
   "source": [
    "# train/validate/test\n",
    "#1 LSTM -> 2 Conv1D(32/64) -> 2 Dense (1024/512): \n",
    "#  loss: 0.0225 - accuracy: 0.9913 - val_loss: 0.7405 - val_accuracy: 0.8308 - val_accuracy: 0.8299\n",
    "#  test accuracy: 83.41%\n",
    "\n"
   ]
  }
 ],
 "metadata": {
  "kernelspec": {
   "display_name": "Python 3 (ipykernel)",
   "language": "python",
   "name": "python3"
  },
  "language_info": {
   "codemirror_mode": {
    "name": "ipython",
    "version": 3
   },
   "file_extension": ".py",
   "mimetype": "text/x-python",
   "name": "python",
   "nbconvert_exporter": "python",
   "pygments_lexer": "ipython3",
   "version": "3.9.12"
  }
 },
 "nbformat": 4,
 "nbformat_minor": 5
}
