{
 "cells": [
  {
   "cell_type": "code",
   "execution_count": 1,
   "metadata": {
    "id": "kMGliIWyzX3l"
   },
   "outputs": [],
   "source": [
    "import pandas as pd\n",
    "import numpy as np\n",
    "import matplotlib.pyplot as plt\n",
    "from sklearn.datasets import load_digits\n",
    "from sklearn.model_selection import train_test_split, RandomizedSearchCV\n",
    "from sklearn.ensemble import RandomForestClassifier\n",
    "from sklearn.metrics import accuracy_score, confusion_matrix, precision_score, \\\n",
    "                            recall_score, roc_auc_score, roc_curve, f1_score\n",
    "import seaborn as sns\n",
    "from pprint import pprint"
   ]
  },
  {
   "cell_type": "code",
   "execution_count": 2,
   "metadata": {
    "colab": {
     "base_uri": "https://localhost:8080/",
     "height": 300
    },
    "id": "kOaEnNZK5hfq",
    "outputId": "c549f414-a224-4ebf-a71f-8cd30b00823b"
   },
   "outputs": [
    {
     "data": {
      "text/html": [
       "<div>\n",
       "<style scoped>\n",
       "    .dataframe tbody tr th:only-of-type {\n",
       "        vertical-align: middle;\n",
       "    }\n",
       "\n",
       "    .dataframe tbody tr th {\n",
       "        vertical-align: top;\n",
       "    }\n",
       "\n",
       "    .dataframe thead th {\n",
       "        text-align: right;\n",
       "    }\n",
       "</style>\n",
       "<table border=\"1\" class=\"dataframe\">\n",
       "  <thead>\n",
       "    <tr style=\"text-align: right;\">\n",
       "      <th></th>\n",
       "      <th>lag1_mean_0</th>\n",
       "      <th>lag1_mean_1</th>\n",
       "      <th>lag1_mean_2</th>\n",
       "      <th>lag1_mean_3</th>\n",
       "      <th>lag1_mean_4</th>\n",
       "      <th>lag1_mean_5</th>\n",
       "      <th>lag1_mean_6</th>\n",
       "      <th>lag1_mean_7</th>\n",
       "      <th>lag1_mean_8</th>\n",
       "      <th>lag1_mean_9</th>\n",
       "      <th>...</th>\n",
       "      <th>freq_669_13</th>\n",
       "      <th>freq_679_13</th>\n",
       "      <th>freq_689_13</th>\n",
       "      <th>freq_699_13</th>\n",
       "      <th>freq_709_13</th>\n",
       "      <th>freq_720_13</th>\n",
       "      <th>freq_730_13</th>\n",
       "      <th>freq_740_13</th>\n",
       "      <th>freq_750_13</th>\n",
       "      <th>Label</th>\n",
       "    </tr>\n",
       "  </thead>\n",
       "  <tbody>\n",
       "    <tr>\n",
       "      <th>0</th>\n",
       "      <td>-2.934765</td>\n",
       "      <td>0.267884</td>\n",
       "      <td>-2.144542</td>\n",
       "      <td>-2.533547</td>\n",
       "      <td>-3.066073</td>\n",
       "      <td>0.328303</td>\n",
       "      <td>-1.131894</td>\n",
       "      <td>5.429830</td>\n",
       "      <td>-0.836372</td>\n",
       "      <td>8.041636</td>\n",
       "      <td>...</td>\n",
       "      <td>0.007022</td>\n",
       "      <td>0.009016</td>\n",
       "      <td>0.002528</td>\n",
       "      <td>0.004360</td>\n",
       "      <td>0.002872</td>\n",
       "      <td>0.002023</td>\n",
       "      <td>0.004519</td>\n",
       "      <td>0.003357</td>\n",
       "      <td>0.004046</td>\n",
       "      <td>4.0</td>\n",
       "    </tr>\n",
       "    <tr>\n",
       "      <th>1</th>\n",
       "      <td>-6.458215</td>\n",
       "      <td>5.005935</td>\n",
       "      <td>-0.725545</td>\n",
       "      <td>8.512712</td>\n",
       "      <td>-17.244226</td>\n",
       "      <td>20.164538</td>\n",
       "      <td>-0.707510</td>\n",
       "      <td>1.786132</td>\n",
       "      <td>-1.287160</td>\n",
       "      <td>-1.528923</td>\n",
       "      <td>...</td>\n",
       "      <td>0.007777</td>\n",
       "      <td>0.003482</td>\n",
       "      <td>0.003310</td>\n",
       "      <td>0.001004</td>\n",
       "      <td>0.001927</td>\n",
       "      <td>0.004033</td>\n",
       "      <td>0.001630</td>\n",
       "      <td>0.002139</td>\n",
       "      <td>0.002550</td>\n",
       "      <td>1.0</td>\n",
       "    </tr>\n",
       "    <tr>\n",
       "      <th>2</th>\n",
       "      <td>-1.055457</td>\n",
       "      <td>-0.677152</td>\n",
       "      <td>0.241560</td>\n",
       "      <td>0.079234</td>\n",
       "      <td>-1.386140</td>\n",
       "      <td>-0.207097</td>\n",
       "      <td>-0.201138</td>\n",
       "      <td>-5.107441</td>\n",
       "      <td>1.374121</td>\n",
       "      <td>-0.398227</td>\n",
       "      <td>...</td>\n",
       "      <td>0.006512</td>\n",
       "      <td>0.004879</td>\n",
       "      <td>0.004725</td>\n",
       "      <td>0.003842</td>\n",
       "      <td>0.003871</td>\n",
       "      <td>0.002725</td>\n",
       "      <td>0.002234</td>\n",
       "      <td>0.002157</td>\n",
       "      <td>0.000697</td>\n",
       "      <td>1.0</td>\n",
       "    </tr>\n",
       "    <tr>\n",
       "      <th>3</th>\n",
       "      <td>1.104418</td>\n",
       "      <td>0.758306</td>\n",
       "      <td>0.877612</td>\n",
       "      <td>1.910334</td>\n",
       "      <td>5.005314</td>\n",
       "      <td>3.530473</td>\n",
       "      <td>-1.477243</td>\n",
       "      <td>0.118954</td>\n",
       "      <td>-0.916840</td>\n",
       "      <td>-1.358008</td>\n",
       "      <td>...</td>\n",
       "      <td>0.006753</td>\n",
       "      <td>0.008789</td>\n",
       "      <td>0.005344</td>\n",
       "      <td>0.000313</td>\n",
       "      <td>0.002932</td>\n",
       "      <td>0.003106</td>\n",
       "      <td>0.004528</td>\n",
       "      <td>0.003814</td>\n",
       "      <td>0.003689</td>\n",
       "      <td>2.0</td>\n",
       "    </tr>\n",
       "    <tr>\n",
       "      <th>4</th>\n",
       "      <td>1.543269</td>\n",
       "      <td>-0.106916</td>\n",
       "      <td>0.183276</td>\n",
       "      <td>-0.624663</td>\n",
       "      <td>0.278018</td>\n",
       "      <td>-0.392274</td>\n",
       "      <td>-0.944821</td>\n",
       "      <td>1.830702</td>\n",
       "      <td>-0.935904</td>\n",
       "      <td>2.064984</td>\n",
       "      <td>...</td>\n",
       "      <td>0.003381</td>\n",
       "      <td>0.001809</td>\n",
       "      <td>0.002519</td>\n",
       "      <td>0.002780</td>\n",
       "      <td>0.010865</td>\n",
       "      <td>0.003386</td>\n",
       "      <td>0.002724</td>\n",
       "      <td>0.007896</td>\n",
       "      <td>0.007865</td>\n",
       "      <td>4.0</td>\n",
       "    </tr>\n",
       "  </tbody>\n",
       "</table>\n",
       "<p>5 rows × 3739 columns</p>\n",
       "</div>"
      ],
      "text/plain": [
       "   lag1_mean_0  lag1_mean_1  lag1_mean_2  lag1_mean_3  lag1_mean_4  \\\n",
       "0    -2.934765     0.267884    -2.144542    -2.533547    -3.066073   \n",
       "1    -6.458215     5.005935    -0.725545     8.512712   -17.244226   \n",
       "2    -1.055457    -0.677152     0.241560     0.079234    -1.386140   \n",
       "3     1.104418     0.758306     0.877612     1.910334     5.005314   \n",
       "4     1.543269    -0.106916     0.183276    -0.624663     0.278018   \n",
       "\n",
       "   lag1_mean_5  lag1_mean_6  lag1_mean_7  lag1_mean_8  lag1_mean_9  ...  \\\n",
       "0     0.328303    -1.131894     5.429830    -0.836372     8.041636  ...   \n",
       "1    20.164538    -0.707510     1.786132    -1.287160    -1.528923  ...   \n",
       "2    -0.207097    -0.201138    -5.107441     1.374121    -0.398227  ...   \n",
       "3     3.530473    -1.477243     0.118954    -0.916840    -1.358008  ...   \n",
       "4    -0.392274    -0.944821     1.830702    -0.935904     2.064984  ...   \n",
       "\n",
       "   freq_669_13  freq_679_13  freq_689_13  freq_699_13  freq_709_13  \\\n",
       "0     0.007022     0.009016     0.002528     0.004360     0.002872   \n",
       "1     0.007777     0.003482     0.003310     0.001004     0.001927   \n",
       "2     0.006512     0.004879     0.004725     0.003842     0.003871   \n",
       "3     0.006753     0.008789     0.005344     0.000313     0.002932   \n",
       "4     0.003381     0.001809     0.002519     0.002780     0.010865   \n",
       "\n",
       "   freq_720_13  freq_730_13  freq_740_13  freq_750_13  Label  \n",
       "0     0.002023     0.004519     0.003357     0.004046    4.0  \n",
       "1     0.004033     0.001630     0.002139     0.002550    1.0  \n",
       "2     0.002725     0.002234     0.002157     0.000697    1.0  \n",
       "3     0.003106     0.004528     0.003814     0.003689    2.0  \n",
       "4     0.003386     0.002724     0.007896     0.007865    4.0  \n",
       "\n",
       "[5 rows x 3739 columns]"
      ]
     },
     "execution_count": 2,
     "metadata": {},
     "output_type": "execute_result"
    }
   ],
   "source": [
    "# Read data\n",
    "gameemo = pd.read_csv(\"csv/out_gameemo.csv\")\n",
    "gameemo.head()"
   ]
  },
  {
   "cell_type": "markdown",
   "metadata": {
    "id": "qHqVZL5CXzJG"
   },
   "source": [
    "# EDA"
   ]
  },
  {
   "cell_type": "code",
   "execution_count": 3,
   "metadata": {
    "colab": {
     "base_uri": "https://localhost:8080/"
    },
    "id": "t47FvBy0Xyap",
    "outputId": "7a357048-2858-4cbc-f0ac-8abbaca547ae"
   },
   "outputs": [
    {
     "data": {
      "text/plain": [
       "3.0    10325\n",
       "2.0     9977\n",
       "1.0     9892\n",
       "4.0     9877\n",
       "Name: Label, dtype: int64"
      ]
     },
     "execution_count": 3,
     "metadata": {},
     "output_type": "execute_result"
    }
   ],
   "source": [
    "gameemo[\"Label\"].value_counts()"
   ]
  },
  {
   "cell_type": "markdown",
   "metadata": {
    "id": "yQjJtydy75P0"
   },
   "source": [
    "# Random Forest"
   ]
  },
  {
   "cell_type": "code",
   "execution_count": 4,
   "metadata": {
    "id": "0nGSOItg78Fh"
   },
   "outputs": [],
   "source": [
    "X = gameemo.drop(\"Label\", axis=\"columns\")\n",
    "Y = gameemo[\"Label\"]\n",
    "#X_train, X_test, Y_train, Y_test = train_test_split(X,Y, test_size=0.3)\n",
    "X_train, X_validate, Y_train, Y_validate = train_test_split(X, Y, train_size=0.6, random_state=48)\n",
    "\n",
    "X_validate, X_test, Y_validate, Y_test = train_test_split(X_validate, Y_validate, train_size=0.5, random_state=48)"
   ]
  },
  {
   "cell_type": "code",
   "execution_count": 6,
   "metadata": {
    "colab": {
     "base_uri": "https://localhost:8080/"
    },
    "id": "BoZAP6gBYKzT",
    "outputId": "bbffd77c-cc9b-446b-e1e6-4c4867eb3a7f"
   },
   "outputs": [
    {
     "name": "stdout",
     "output_type": "stream",
     "text": [
      "24042\n",
      "24042\n",
      "8014\n",
      "8014\n",
      "8015\n",
      "8015\n"
     ]
    }
   ],
   "source": [
    "print(len(X_train))\n",
    "print(len(Y_train))\n",
    "print(len(X_validate))\n",
    "print(len(Y_validate))\n",
    "print(len(X_test))\n",
    "print(len(Y_test))"
   ]
  },
  {
   "cell_type": "code",
   "execution_count": 7,
   "metadata": {
    "colab": {
     "base_uri": "https://localhost:8080/"
    },
    "id": "E7SOJRhd8mf1",
    "outputId": "d1ae1a53-b72b-4ae8-f1fe-9d85044eba67"
   },
   "outputs": [
    {
     "data": {
      "text/plain": [
       "RandomForestClassifier(min_samples_leaf=50, n_estimators=150, n_jobs=-1,\n",
       "                       oob_score=True, random_state=928)"
      ]
     },
     "execution_count": 7,
     "metadata": {},
     "output_type": "execute_result"
    }
   ],
   "source": [
    "seed = 928\n",
    "mymodel = RandomForestClassifier(\n",
    "                      min_samples_leaf=50,\n",
    "                      n_estimators=150,\n",
    "                      bootstrap=True,\n",
    "                      oob_score=True,\n",
    "                      n_jobs=-1,\n",
    "                      random_state=seed,\n",
    "                      max_features='auto')\n",
    "mymodel.fit(X_train, Y_train)"
   ]
  },
  {
   "cell_type": "code",
   "execution_count": 12,
   "metadata": {
    "colab": {
     "base_uri": "https://localhost:8080/"
    },
    "id": "QcaCcwRLYq5Z",
    "outputId": "c4d6a290-b616-4e8b-e3c3-d64719738598"
   },
   "outputs": [
    {
     "data": {
      "text/plain": [
       "array([1., 2., 1., 3., 1., 2., 4., 1., 3., 1.])"
      ]
     },
     "execution_count": 12,
     "metadata": {},
     "output_type": "execute_result"
    }
   ],
   "source": [
    "mymodel.predict(X_validate[:10])"
   ]
  },
  {
   "cell_type": "code",
   "execution_count": 13,
   "metadata": {
    "colab": {
     "base_uri": "https://localhost:8080/"
    },
    "id": "nMZpFWk4Y1Cp",
    "outputId": "e604cc83-86a0-43d4-d681-e3187b0b8647"
   },
   "outputs": [
    {
     "data": {
      "text/plain": [
       "27022    1.0\n",
       "16951    2.0\n",
       "6223     1.0\n",
       "15300    3.0\n",
       "37258    1.0\n",
       "280      2.0\n",
       "3295     4.0\n",
       "39993    1.0\n",
       "25679    2.0\n",
       "5256     1.0\n",
       "Name: Label, dtype: float64"
      ]
     },
     "execution_count": 13,
     "metadata": {},
     "output_type": "execute_result"
    }
   ],
   "source": [
    "Y_validate[:10]"
   ]
  },
  {
   "cell_type": "code",
   "execution_count": 14,
   "metadata": {
    "colab": {
     "base_uri": "https://localhost:8080/"
    },
    "id": "Xm4f51Y3Y-Ww",
    "outputId": "d31c23dd-f221-49f3-c36b-471fdb09c3e0"
   },
   "outputs": [
    {
     "data": {
      "text/plain": [
       "0.7670326927876217"
      ]
     },
     "execution_count": 14,
     "metadata": {},
     "output_type": "execute_result"
    }
   ],
   "source": [
    "mymodel.score(X_validate, Y_validate)"
   ]
  },
  {
   "cell_type": "code",
   "execution_count": 15,
   "metadata": {
    "colab": {
     "base_uri": "https://localhost:8080/"
    },
    "id": "jsdogMZyZAJh",
    "outputId": "5d2b4d33-ba29-44bd-d2bb-47c60d9537f3"
   },
   "outputs": [
    {
     "data": {
      "text/plain": [
       "array([[1583,  231,   78,  110],\n",
       "       [ 235, 1469,  126,  159],\n",
       "       [  66,   93, 1755,  113],\n",
       "       [ 202,  180,  274, 1340]])"
      ]
     },
     "execution_count": 15,
     "metadata": {},
     "output_type": "execute_result"
    }
   ],
   "source": [
    "Y_predicted = mymodel.predict(X_validate)\n",
    "cm = confusion_matrix(Y_validate, Y_predicted)\n",
    "cm"
   ]
  },
  {
   "cell_type": "code",
   "execution_count": 15,
   "metadata": {
    "colab": {
     "base_uri": "https://localhost:8080/",
     "height": 460
    },
    "id": "g5drNgfBZJrg",
    "outputId": "78d675b5-e75d-4ff6-96c9-bb04afbe2526"
   },
   "outputs": [
    {
     "data": {
      "text/plain": [
       "Text(69.0, 0.5, 'Truth')"
      ]
     },
     "execution_count": 15,
     "metadata": {},
     "output_type": "execute_result"
    },
    {
     "data": {
      "image/png": "[encoded data removed]",
      "text/plain": [
       "<Figure size 720x504 with 2 Axes>"
      ]
     },
     "metadata": {
      "needs_background": "light"
     },
     "output_type": "display_data"
    }
   ],
   "source": [
    "plt.figure(figsize=(10,7))\n",
    "sns.heatmap(cm,annot=True)\n",
    "plt.xlabel(\"Predicted\")\n",
    "plt.ylabel(\"Truth\")"
   ]
  },
  {
   "cell_type": "code",
   "execution_count": 16,
   "metadata": {
    "colab": {
     "base_uri": "https://localhost:8080/"
    },
    "id": "TsTVqow8l6wt",
    "outputId": "5b4aeee2-5e66-4cb7-90f3-3e05a020ab2f"
   },
   "outputs": [
    {
     "name": "stdout",
     "output_type": "stream",
     "text": [
      "[5.27706533e-05 1.28302208e-05 9.11719415e-05 ... 1.89838388e-04\n",
      " 9.47273669e-05 6.95658556e-04]\n",
      " There are 3738 features in total\n"
     ]
    }
   ],
   "source": [
    "print(mymodel.feature_importances_)\n",
    "print(f\" There are {len(mymodel.feature_importances_)} features in total\")\n"
   ]
  },
  {
   "cell_type": "code",
   "execution_count": 17,
   "metadata": {
    "id": "TP8uyIHNmRMC"
   },
   "outputs": [],
   "source": [
    "feature_importances = list(zip(X_train, mymodel.feature_importances_))\n",
    "# Then sort the feature importances by most important first\n",
    "feature_importances_ranked = sorted(feature_importances, key = lambda x: x[1], reverse = True)\n",
    "# Print out the feature and importances\n",
    "#[print('Feature: {:35} Importance: {}'.format(*pair)) for pair in feature_importances_ranked];"
   ]
  },
  {
   "cell_type": "code",
   "execution_count": 32,
   "metadata": {
    "colab": {
     "base_uri": "https://localhost:8080/",
     "height": 867
    },
    "id": "lhN1MVGsmn_q",
    "outputId": "c107388e-ef68-4b8f-ba3b-7cc1654e6169"
   },
   "outputs": [
    {
     "data": {
      "image/png": "[encoded data removed]",
      "text/plain": [
       "<Figure size 720x1008 with 1 Axes>"
      ]
     },
     "metadata": {
      "needs_background": "light"
     },
     "output_type": "display_data"
    }
   ],
   "source": [
    "# Plot the top 25 feature importance\n",
    "feature_names_40 = [i[0] for i in feature_importances_ranked[:40]]\n",
    "y_ticks = np.arange(0, len(feature_names_40))\n",
    "x_axis = [i[1] for i in feature_importances_ranked[:40]]\n",
    "plt.figure(figsize = (10, 14))\n",
    "plt.barh(feature_names_40, x_axis)   #horizontal barplot\n",
    "plt.title('Random Forest Feature Importance (Top 40)',\n",
    "          fontdict= {'fontname':'Comic Sans MS','fontsize' : 20})\n",
    "plt.xlabel('Features',fontdict= {'fontsize' : 16})\n",
    "plt.show()"
   ]
  },
  {
   "cell_type": "markdown",
   "metadata": {},
   "source": [
    "# feature reduction"
   ]
  },
  {
   "cell_type": "code",
   "execution_count": 23,
   "metadata": {},
   "outputs": [],
   "source": [
    "feature_db = pd.DataFrame(feature_importances_ranked, columns = [\"feature\", \"importance\"])"
   ]
  },
  {
   "cell_type": "code",
   "execution_count": 35,
   "metadata": {},
   "outputs": [],
   "source": [
    "feature_db_important = feature_db[feature_db[\"importance\"] > 0.001]"
   ]
  },
  {
   "cell_type": "code",
   "execution_count": 40,
   "metadata": {},
   "outputs": [
    {
     "data": {
      "text/html": [
       "<div>\n",
       "<style scoped>\n",
       "    .dataframe tbody tr th:only-of-type {\n",
       "        vertical-align: middle;\n",
       "    }\n",
       "\n",
       "    .dataframe tbody tr th {\n",
       "        vertical-align: top;\n",
       "    }\n",
       "\n",
       "    .dataframe thead th {\n",
       "        text-align: right;\n",
       "    }\n",
       "</style>\n",
       "<table border=\"1\" class=\"dataframe\">\n",
       "  <thead>\n",
       "    <tr style=\"text-align: right;\">\n",
       "      <th></th>\n",
       "      <th>feature</th>\n",
       "      <th>importance</th>\n",
       "    </tr>\n",
       "  </thead>\n",
       "  <tbody>\n",
       "    <tr>\n",
       "      <th>0</th>\n",
       "      <td>covM_5_7</td>\n",
       "      <td>0.006139</td>\n",
       "    </tr>\n",
       "    <tr>\n",
       "      <th>1</th>\n",
       "      <td>lag1_covM_5_7</td>\n",
       "      <td>0.005834</td>\n",
       "    </tr>\n",
       "    <tr>\n",
       "      <th>2</th>\n",
       "      <td>logcovM_9_13</td>\n",
       "      <td>0.004555</td>\n",
       "    </tr>\n",
       "    <tr>\n",
       "      <th>3</th>\n",
       "      <td>lag1_logcovM_12_13</td>\n",
       "      <td>0.004419</td>\n",
       "    </tr>\n",
       "    <tr>\n",
       "      <th>4</th>\n",
       "      <td>lag1_covM_8_13</td>\n",
       "      <td>0.004352</td>\n",
       "    </tr>\n",
       "  </tbody>\n",
       "</table>\n",
       "</div>"
      ],
      "text/plain": [
       "              feature  importance\n",
       "0            covM_5_7    0.006139\n",
       "1       lag1_covM_5_7    0.005834\n",
       "2        logcovM_9_13    0.004555\n",
       "3  lag1_logcovM_12_13    0.004419\n",
       "4      lag1_covM_8_13    0.004352"
      ]
     },
     "execution_count": 40,
     "metadata": {},
     "output_type": "execute_result"
    }
   ],
   "source": [
    "feature_db_important.head()"
   ]
  },
  {
   "cell_type": "code",
   "execution_count": 47,
   "metadata": {},
   "outputs": [
    {
     "data": {
      "text/html": [
       "<div>\n",
       "<style scoped>\n",
       "    .dataframe tbody tr th:only-of-type {\n",
       "        vertical-align: middle;\n",
       "    }\n",
       "\n",
       "    .dataframe tbody tr th {\n",
       "        vertical-align: top;\n",
       "    }\n",
       "\n",
       "    .dataframe thead th {\n",
       "        text-align: right;\n",
       "    }\n",
       "</style>\n",
       "<table border=\"1\" class=\"dataframe\">\n",
       "  <thead>\n",
       "    <tr style=\"text-align: right;\">\n",
       "      <th></th>\n",
       "      <th>covM_5_7</th>\n",
       "      <th>lag1_covM_5_7</th>\n",
       "      <th>logcovM_9_13</th>\n",
       "      <th>lag1_logcovM_12_13</th>\n",
       "      <th>lag1_covM_8_13</th>\n",
       "      <th>lag1_topFreq_1_9</th>\n",
       "      <th>covM_8_13</th>\n",
       "      <th>logcovM_12_13</th>\n",
       "      <th>lag1_covM_11_12</th>\n",
       "      <th>lag1_covM_7_9</th>\n",
       "      <th>...</th>\n",
       "      <th>covM_1_2</th>\n",
       "      <th>lag1_covM_3_10</th>\n",
       "      <th>lag1_logcovM_7_12</th>\n",
       "      <th>lag1_std_3</th>\n",
       "      <th>skew_13</th>\n",
       "      <th>freq_395_0</th>\n",
       "      <th>lag1_covM_5_8</th>\n",
       "      <th>covM_1_6</th>\n",
       "      <th>lag1_covM_1_6</th>\n",
       "      <th>Label</th>\n",
       "    </tr>\n",
       "  </thead>\n",
       "  <tbody>\n",
       "    <tr>\n",
       "      <th>0</th>\n",
       "      <td>63.571689</td>\n",
       "      <td>43.365725</td>\n",
       "      <td>0.066671</td>\n",
       "      <td>0.043505</td>\n",
       "      <td>55.815357</td>\n",
       "      <td>8.108108</td>\n",
       "      <td>-43.237857</td>\n",
       "      <td>0.129858</td>\n",
       "      <td>58.009623</td>\n",
       "      <td>-40.772496</td>\n",
       "      <td>...</td>\n",
       "      <td>75.842807</td>\n",
       "      <td>52.441214</td>\n",
       "      <td>0.377509</td>\n",
       "      <td>8.186071</td>\n",
       "      <td>-1.441759</td>\n",
       "      <td>0.004659</td>\n",
       "      <td>-87.088598</td>\n",
       "      <td>-2.182497</td>\n",
       "      <td>-17.921141</td>\n",
       "      <td>4.0</td>\n",
       "    </tr>\n",
       "    <tr>\n",
       "      <th>1</th>\n",
       "      <td>-39.742940</td>\n",
       "      <td>-14.610115</td>\n",
       "      <td>0.517085</td>\n",
       "      <td>0.143441</td>\n",
       "      <td>-6.495255</td>\n",
       "      <td>3.040541</td>\n",
       "      <td>-5.594557</td>\n",
       "      <td>0.111749</td>\n",
       "      <td>28.872864</td>\n",
       "      <td>10.954503</td>\n",
       "      <td>...</td>\n",
       "      <td>18.573133</td>\n",
       "      <td>-91.344820</td>\n",
       "      <td>0.243042</td>\n",
       "      <td>17.042747</td>\n",
       "      <td>0.069610</td>\n",
       "      <td>0.003425</td>\n",
       "      <td>-27.282711</td>\n",
       "      <td>-6.598439</td>\n",
       "      <td>-149.955909</td>\n",
       "      <td>1.0</td>\n",
       "    </tr>\n",
       "    <tr>\n",
       "      <th>2</th>\n",
       "      <td>-16.665917</td>\n",
       "      <td>-9.266190</td>\n",
       "      <td>0.142650</td>\n",
       "      <td>0.028840</td>\n",
       "      <td>0.266381</td>\n",
       "      <td>5.067568</td>\n",
       "      <td>19.372293</td>\n",
       "      <td>0.261503</td>\n",
       "      <td>12.372579</td>\n",
       "      <td>5.617299</td>\n",
       "      <td>...</td>\n",
       "      <td>18.209710</td>\n",
       "      <td>-5.687579</td>\n",
       "      <td>0.446281</td>\n",
       "      <td>5.942805</td>\n",
       "      <td>-0.946380</td>\n",
       "      <td>0.003307</td>\n",
       "      <td>-9.235352</td>\n",
       "      <td>20.343134</td>\n",
       "      <td>-3.289547</td>\n",
       "      <td>1.0</td>\n",
       "    </tr>\n",
       "    <tr>\n",
       "      <th>3</th>\n",
       "      <td>67.553854</td>\n",
       "      <td>47.376215</td>\n",
       "      <td>0.211650</td>\n",
       "      <td>0.154639</td>\n",
       "      <td>52.106336</td>\n",
       "      <td>3.040541</td>\n",
       "      <td>25.743559</td>\n",
       "      <td>0.037113</td>\n",
       "      <td>51.224910</td>\n",
       "      <td>-22.576256</td>\n",
       "      <td>...</td>\n",
       "      <td>72.206799</td>\n",
       "      <td>-44.719156</td>\n",
       "      <td>0.080179</td>\n",
       "      <td>11.440085</td>\n",
       "      <td>-0.318530</td>\n",
       "      <td>0.007922</td>\n",
       "      <td>-244.427426</td>\n",
       "      <td>-229.858870</td>\n",
       "      <td>-32.502078</td>\n",
       "      <td>2.0</td>\n",
       "    </tr>\n",
       "    <tr>\n",
       "      <th>4</th>\n",
       "      <td>6.865383</td>\n",
       "      <td>-6.196035</td>\n",
       "      <td>0.856517</td>\n",
       "      <td>0.041761</td>\n",
       "      <td>-140.972736</td>\n",
       "      <td>38.513514</td>\n",
       "      <td>-102.738149</td>\n",
       "      <td>0.018385</td>\n",
       "      <td>91.855846</td>\n",
       "      <td>271.725807</td>\n",
       "      <td>...</td>\n",
       "      <td>55.940283</td>\n",
       "      <td>-62.421273</td>\n",
       "      <td>0.269474</td>\n",
       "      <td>13.663606</td>\n",
       "      <td>-0.103004</td>\n",
       "      <td>0.095349</td>\n",
       "      <td>68.461827</td>\n",
       "      <td>9.326552</td>\n",
       "      <td>32.611388</td>\n",
       "      <td>4.0</td>\n",
       "    </tr>\n",
       "  </tbody>\n",
       "</table>\n",
       "<p>5 rows × 256 columns</p>\n",
       "</div>"
      ],
      "text/plain": [
       "    covM_5_7  lag1_covM_5_7  logcovM_9_13  lag1_logcovM_12_13  lag1_covM_8_13  \\\n",
       "0  63.571689      43.365725      0.066671            0.043505       55.815357   \n",
       "1 -39.742940     -14.610115      0.517085            0.143441       -6.495255   \n",
       "2 -16.665917      -9.266190      0.142650            0.028840        0.266381   \n",
       "3  67.553854      47.376215      0.211650            0.154639       52.106336   \n",
       "4   6.865383      -6.196035      0.856517            0.041761     -140.972736   \n",
       "\n",
       "   lag1_topFreq_1_9   covM_8_13  logcovM_12_13  lag1_covM_11_12  \\\n",
       "0          8.108108  -43.237857       0.129858        58.009623   \n",
       "1          3.040541   -5.594557       0.111749        28.872864   \n",
       "2          5.067568   19.372293       0.261503        12.372579   \n",
       "3          3.040541   25.743559       0.037113        51.224910   \n",
       "4         38.513514 -102.738149       0.018385        91.855846   \n",
       "\n",
       "   lag1_covM_7_9  ...   covM_1_2  lag1_covM_3_10  lag1_logcovM_7_12  \\\n",
       "0     -40.772496  ...  75.842807       52.441214           0.377509   \n",
       "1      10.954503  ...  18.573133      -91.344820           0.243042   \n",
       "2       5.617299  ...  18.209710       -5.687579           0.446281   \n",
       "3     -22.576256  ...  72.206799      -44.719156           0.080179   \n",
       "4     271.725807  ...  55.940283      -62.421273           0.269474   \n",
       "\n",
       "   lag1_std_3   skew_13  freq_395_0  lag1_covM_5_8    covM_1_6  lag1_covM_1_6  \\\n",
       "0    8.186071 -1.441759    0.004659     -87.088598   -2.182497     -17.921141   \n",
       "1   17.042747  0.069610    0.003425     -27.282711   -6.598439    -149.955909   \n",
       "2    5.942805 -0.946380    0.003307      -9.235352   20.343134      -3.289547   \n",
       "3   11.440085 -0.318530    0.007922    -244.427426 -229.858870     -32.502078   \n",
       "4   13.663606 -0.103004    0.095349      68.461827    9.326552      32.611388   \n",
       "\n",
       "   Label  \n",
       "0    4.0  \n",
       "1    1.0  \n",
       "2    1.0  \n",
       "3    2.0  \n",
       "4    4.0  \n",
       "\n",
       "[5 rows x 256 columns]"
      ]
     },
     "execution_count": 47,
     "metadata": {},
     "output_type": "execute_result"
    }
   ],
   "source": [
    "features = list(feature_db_important[\"feature\"])\n",
    "features.append(\"Label\")\n",
    "\n",
    "gameemo_reduced = gameemo[features]\n",
    "gameemo_reduced.head()"
   ]
  },
  {
   "cell_type": "code",
   "execution_count": 48,
   "metadata": {},
   "outputs": [],
   "source": [
    "X_reduced = gameemo_reduced.drop(\"Label\", axis=\"columns\")\n",
    "Y_reduced = gameemo_reduced[\"Label\"]\n",
    "#X_train, X_test, Y_train, Y_test = train_test_split(X,Y, test_size=0.3)\n",
    "X_train, X_validate, Y_train, Y_validate = train_test_split(X_reduced, Y_reduced, train_size=0.6, random_state=48)\n",
    "\n",
    "X_validate, X_test, Y_validate, Y_test = train_test_split(X_validate, Y_validate, train_size=0.5, random_state=48)"
   ]
  },
  {
   "cell_type": "markdown",
   "metadata": {},
   "source": [
    "# KNN base model after feature reduction"
   ]
  },
  {
   "cell_type": "code",
   "execution_count": 67,
   "metadata": {},
   "outputs": [
    {
     "name": "stdout",
     "output_type": "stream",
     "text": [
      "Best k:  {'n_neighbors': 1} , Best score:  70.25203021649993 %\n"
     ]
    }
   ],
   "source": [
    "from sklearn.neighbors import KNeighborsClassifier\n",
    "\n",
    "## Find best k using GridSearchCV\n",
    "from sklearn.model_selection import GridSearchCV\n",
    "\n",
    "## Create a helper function for using GridSearchCV to check results\n",
    "def gridsearch_check(start: int, end: int, X_t, y_t):\n",
    "    knn = KNeighborsClassifier()\n",
    "    param_grid = {'n_neighbors': np.arange(start, end)}\n",
    "    knn_gscv = GridSearchCV(knn, param_grid, cv=5)\n",
    "    knn_gscv.fit(X_t, y_t)\n",
    "    print('Best k: ', knn_gscv.best_params_, ', Best score: ', knn_gscv.best_score_ * 100, \"%\")\n",
    "\n",
    "## Run GridSearchCV to check results\n",
    "gridsearch_check(1, 500, X_train, Y_train)"
   ]
  },
  {
   "cell_type": "code",
   "execution_count": 72,
   "metadata": {},
   "outputs": [
    {
     "data": {
      "text/plain": [
       "KNeighborsClassifier(n_neighbors=1)"
      ]
     },
     "execution_count": 72,
     "metadata": {},
     "output_type": "execute_result"
    }
   ],
   "source": [
    "knn = KNeighborsClassifier(n_neighbors=1)\n",
    "knn.fit(X_train, Y_train)"
   ]
  },
  {
   "cell_type": "code",
   "execution_count": 73,
   "metadata": {},
   "outputs": [
    {
     "data": {
      "text/plain": [
       "0.7083853256800599"
      ]
     },
     "execution_count": 73,
     "metadata": {},
     "output_type": "execute_result"
    }
   ],
   "source": [
    "knn.score(X_validate, Y_validate)"
   ]
  },
  {
   "cell_type": "code",
   "execution_count": 74,
   "metadata": {},
   "outputs": [
    {
     "data": {
      "text/plain": [
       "0.7165315034310668"
      ]
     },
     "execution_count": 74,
     "metadata": {},
     "output_type": "execute_result"
    }
   ],
   "source": [
    "knn.score(X_test, Y_test)"
   ]
  },
  {
   "cell_type": "markdown",
   "metadata": {},
   "source": [
    "# Back to random forest"
   ]
  },
  {
   "cell_type": "code",
   "execution_count": 49,
   "metadata": {},
   "outputs": [
    {
     "data": {
      "text/plain": [
       "RandomForestClassifier(min_samples_leaf=50, n_estimators=150, n_jobs=-1,\n",
       "                       oob_score=True, random_state=928)"
      ]
     },
     "execution_count": 49,
     "metadata": {},
     "output_type": "execute_result"
    }
   ],
   "source": [
    "seed = 928\n",
    "mymodel = RandomForestClassifier(\n",
    "                      min_samples_leaf=50,\n",
    "                      n_estimators=150,\n",
    "                      bootstrap=True,\n",
    "                      oob_score=True,\n",
    "                      n_jobs=-1,\n",
    "                      random_state=seed,\n",
    "                      max_features='auto')\n",
    "mymodel.fit(X_train, Y_train)"
   ]
  },
  {
   "cell_type": "code",
   "execution_count": 50,
   "metadata": {},
   "outputs": [
    {
     "data": {
      "text/plain": [
       "0.763913151984028"
      ]
     },
     "execution_count": 50,
     "metadata": {},
     "output_type": "execute_result"
    }
   ],
   "source": [
    "mymodel.score(X_validate, Y_validate)"
   ]
  },
  {
   "cell_type": "markdown",
   "metadata": {
    "id": "ac22uncEkCIq"
   },
   "source": [
    "# Tune the hyperparameters with RandomSearchCV"
   ]
  },
  {
   "cell_type": "code",
   "execution_count": 19,
   "metadata": {
    "colab": {
     "base_uri": "https://localhost:8080/"
    },
    "id": "mcnAQXOemzju",
    "outputId": "898bef35-a33c-400e-bff1-858890a47f84"
   },
   "outputs": [
    {
     "name": "stdout",
     "output_type": "stream",
     "text": [
      "Parameters currently in use:\n",
      "\n",
      "{'bootstrap': True,\n",
      " 'ccp_alpha': 0.0,\n",
      " 'class_weight': None,\n",
      " 'criterion': 'gini',\n",
      " 'max_depth': None,\n",
      " 'max_features': 'auto',\n",
      " 'max_leaf_nodes': None,\n",
      " 'max_samples': None,\n",
      " 'min_impurity_decrease': 0.0,\n",
      " 'min_impurity_split': None,\n",
      " 'min_samples_leaf': 50,\n",
      " 'min_samples_split': 2,\n",
      " 'min_weight_fraction_leaf': 0.0,\n",
      " 'n_estimators': 150,\n",
      " 'n_jobs': -1,\n",
      " 'oob_score': True,\n",
      " 'random_state': 928,\n",
      " 'verbose': 0,\n",
      " 'warm_start': False}\n"
     ]
    }
   ],
   "source": [
    "from pprint import pprint\n",
    "print('Parameters currently in use:\\n')\n",
    "pprint(mymodel.get_params())"
   ]
  },
  {
   "cell_type": "code",
   "execution_count": 61,
   "metadata": {},
   "outputs": [
    {
     "data": {
      "text/plain": [
       "0.8146992762665336"
      ]
     },
     "execution_count": 61,
     "metadata": {},
     "output_type": "execute_result"
    }
   ],
   "source": [
    "newmodel = RandomForestClassifier(\n",
    "                      min_samples_leaf=20,\n",
    "                      n_estimators=1000,\n",
    "                      max_depth = 150,\n",
    "                      bootstrap=True,\n",
    "                      oob_score=True,\n",
    "                      n_jobs=-1,\n",
    "                      random_state=seed,\n",
    "                      max_features=0.2)\n",
    "newmodel.fit(X_train, Y_train)\n",
    "newmodel.score(X_validate, Y_validate)"
   ]
  },
  {
   "cell_type": "code",
   "execution_count": 62,
   "metadata": {},
   "outputs": [
    {
     "data": {
      "text/plain": [
       "0.8076107298814722"
      ]
     },
     "execution_count": 62,
     "metadata": {},
     "output_type": "execute_result"
    }
   ],
   "source": [
    "newmodel.score(X_test, Y_test)"
   ]
  },
  {
   "cell_type": "code",
   "execution_count": 20,
   "metadata": {
    "id": "wGtE5_H9kBpZ"
   },
   "outputs": [],
   "source": [
    "\"\"\"\n",
    "n_estimators = [int(x) for x in np.linspace(start = 100, stop = 700, num = 50)]\n",
    "max_features = ['auto', 'log2']  # Number of features to consider at every split\n",
    "max_depth = [int(x) for x in np.linspace(10, 110, num = 11)]   # Maximum number of levels in tree\n",
    "max_depth.append(None)\n",
    "min_samples_split = [2, 5, 10, 15]  # Minimum number of samples required to split a node\n",
    "min_samples_leaf = [4, 10, 30, 40, 50, 60]    # Minimum number of samples required at each leaf node\n",
    "bootstrap = [True]       # Method of selecting samples for training each tree\n",
    "random_grid = {'n_estimators': n_estimators,\n",
    "               'max_features': max_features,\n",
    "               'max_depth': max_depth,\n",
    "               'min_samples_split': min_samples_split,\n",
    "               'min_samples_leaf': min_samples_leaf,\n",
    "               'max_leaf_nodes': [None] + list(np.linspace(10, 50, 500).astype(int)),\n",
    "               'bootstrap': bootstrap}\n",
    "\"\"\""
   ]
  },
  {
   "cell_type": "code",
   "execution_count": 21,
   "metadata": {
    "colab": {
     "base_uri": "https://localhost:8080/"
    },
    "id": "zde2DQSJm_J4",
    "outputId": "5562caf7-951a-44b4-c8ce-2456baba61ee"
   },
   "outputs": [
    {
     "name": "stdout",
     "output_type": "stream",
     "text": [
      "Fitting 3 folds for each of 50 candidates, totalling 150 fits\n",
      "[CV] END bootstrap=True, max_depth=30, max_features=log2, max_leaf_nodes=14, min_samples_leaf=50, min_samples_split=10, n_estimators=540; total time= 3.3min\n",
      "[CV] END bootstrap=True, max_depth=30, max_features=log2, max_leaf_nodes=14, min_samples_leaf=50, min_samples_split=10, n_estimators=540; total time= 3.1min\n",
      "[CV] END bootstrap=True, max_depth=30, max_features=log2, max_leaf_nodes=14, min_samples_leaf=50, min_samples_split=10, n_estimators=540; total time= 3.0min\n",
      "[CV] END bootstrap=True, max_depth=10, max_features=auto, max_leaf_nodes=15, min_samples_leaf=4, min_samples_split=2, n_estimators=442; total time= 5.3min\n",
      "[CV] END bootstrap=True, max_depth=10, max_features=auto, max_leaf_nodes=15, min_samples_leaf=4, min_samples_split=2, n_estimators=442; total time= 5.4min\n",
      "[CV] END bootstrap=True, max_depth=10, max_features=auto, max_leaf_nodes=15, min_samples_leaf=4, min_samples_split=2, n_estimators=442; total time= 5.4min\n",
      "[CV] END bootstrap=True, max_depth=60, max_features=auto, max_leaf_nodes=49, min_samples_leaf=10, min_samples_split=15, n_estimators=308; total time= 4.8min\n",
      "[CV] END bootstrap=True, max_depth=60, max_features=auto, max_leaf_nodes=49, min_samples_leaf=10, min_samples_split=15, n_estimators=308; total time= 4.7min\n",
      "[CV] END bootstrap=True, max_depth=60, max_features=auto, max_leaf_nodes=49, min_samples_leaf=10, min_samples_split=15, n_estimators=308; total time= 4.8min\n",
      "[CV] END bootstrap=True, max_depth=60, max_features=log2, max_leaf_nodes=31, min_samples_leaf=10, min_samples_split=15, n_estimators=210; total time= 1.3min\n",
      "[CV] END bootstrap=True, max_depth=60, max_features=log2, max_leaf_nodes=31, min_samples_leaf=10, min_samples_split=15, n_estimators=210; total time= 1.3min\n",
      "[CV] END bootstrap=True, max_depth=60, max_features=log2, max_leaf_nodes=31, min_samples_leaf=10, min_samples_split=15, n_estimators=210; total time= 1.3min\n",
      "[CV] END bootstrap=True, max_depth=None, max_features=log2, max_leaf_nodes=15, min_samples_leaf=60, min_samples_split=2, n_estimators=565; total time= 3.2min\n",
      "[CV] END bootstrap=True, max_depth=None, max_features=log2, max_leaf_nodes=15, min_samples_leaf=60, min_samples_split=2, n_estimators=565; total time= 3.2min\n",
      "[CV] END bootstrap=True, max_depth=None, max_features=log2, max_leaf_nodes=15, min_samples_leaf=60, min_samples_split=2, n_estimators=565; total time= 3.2min\n",
      "[CV] END bootstrap=True, max_depth=40, max_features=auto, max_leaf_nodes=15, min_samples_leaf=50, min_samples_split=10, n_estimators=320; total time= 3.9min\n",
      "[CV] END bootstrap=True, max_depth=40, max_features=auto, max_leaf_nodes=15, min_samples_leaf=50, min_samples_split=10, n_estimators=320; total time= 3.9min\n",
      "[CV] END bootstrap=True, max_depth=40, max_features=auto, max_leaf_nodes=15, min_samples_leaf=50, min_samples_split=10, n_estimators=320; total time= 3.9min\n",
      "[CV] END bootstrap=True, max_depth=10, max_features=log2, max_leaf_nodes=22, min_samples_leaf=4, min_samples_split=15, n_estimators=393; total time= 2.3min\n",
      "[CV] END bootstrap=True, max_depth=10, max_features=log2, max_leaf_nodes=22, min_samples_leaf=4, min_samples_split=15, n_estimators=393; total time= 2.3min\n",
      "[CV] END bootstrap=True, max_depth=10, max_features=log2, max_leaf_nodes=22, min_samples_leaf=4, min_samples_split=15, n_estimators=393; total time= 2.3min\n",
      "[CV] END bootstrap=True, max_depth=50, max_features=log2, max_leaf_nodes=40, min_samples_leaf=50, min_samples_split=15, n_estimators=124; total time=  51.5s\n",
      "[CV] END bootstrap=True, max_depth=50, max_features=log2, max_leaf_nodes=40, min_samples_leaf=50, min_samples_split=15, n_estimators=124; total time=  47.7s\n",
      "[CV] END bootstrap=True, max_depth=50, max_features=log2, max_leaf_nodes=40, min_samples_leaf=50, min_samples_split=15, n_estimators=124; total time=  46.6s\n",
      "[CV] END bootstrap=True, max_depth=30, max_features=log2, max_leaf_nodes=18, min_samples_leaf=4, min_samples_split=2, n_estimators=577; total time= 3.3min\n",
      "[CV] END bootstrap=True, max_depth=30, max_features=log2, max_leaf_nodes=18, min_samples_leaf=4, min_samples_split=2, n_estimators=577; total time= 3.3min\n",
      "[CV] END bootstrap=True, max_depth=30, max_features=log2, max_leaf_nodes=18, min_samples_leaf=4, min_samples_split=2, n_estimators=577; total time= 3.3min\n",
      "[CV] END bootstrap=True, max_depth=10, max_features=auto, max_leaf_nodes=15, min_samples_leaf=60, min_samples_split=2, n_estimators=602; total time= 7.1min\n",
      "[CV] END bootstrap=True, max_depth=10, max_features=auto, max_leaf_nodes=15, min_samples_leaf=60, min_samples_split=2, n_estimators=602; total time= 7.1min\n",
      "[CV] END bootstrap=True, max_depth=10, max_features=auto, max_leaf_nodes=15, min_samples_leaf=60, min_samples_split=2, n_estimators=602; total time= 7.2min\n",
      "[CV] END bootstrap=True, max_depth=60, max_features=log2, max_leaf_nodes=25, min_samples_leaf=10, min_samples_split=15, n_estimators=246; total time= 1.4min\n",
      "[CV] END bootstrap=True, max_depth=60, max_features=log2, max_leaf_nodes=25, min_samples_leaf=10, min_samples_split=15, n_estimators=246; total time= 1.4min\n",
      "[CV] END bootstrap=True, max_depth=60, max_features=log2, max_leaf_nodes=25, min_samples_leaf=10, min_samples_split=15, n_estimators=246; total time= 1.5min\n",
      "[CV] END bootstrap=True, max_depth=50, max_features=auto, max_leaf_nodes=32, min_samples_leaf=4, min_samples_split=2, n_estimators=197; total time= 2.8min\n",
      "[CV] END bootstrap=True, max_depth=50, max_features=auto, max_leaf_nodes=32, min_samples_leaf=4, min_samples_split=2, n_estimators=197; total time= 2.8min\n",
      "[CV] END bootstrap=True, max_depth=50, max_features=auto, max_leaf_nodes=32, min_samples_leaf=4, min_samples_split=2, n_estimators=197; total time= 2.8min\n",
      "[CV] END bootstrap=True, max_depth=None, max_features=log2, max_leaf_nodes=28, min_samples_leaf=50, min_samples_split=10, n_estimators=173; total time= 1.0min\n",
      "[CV] END bootstrap=True, max_depth=None, max_features=log2, max_leaf_nodes=28, min_samples_leaf=50, min_samples_split=10, n_estimators=173; total time= 1.1min\n",
      "[CV] END bootstrap=True, max_depth=None, max_features=log2, max_leaf_nodes=28, min_samples_leaf=50, min_samples_split=10, n_estimators=173; total time= 1.1min\n",
      "[CV] END bootstrap=True, max_depth=30, max_features=log2, max_leaf_nodes=38, min_samples_leaf=50, min_samples_split=10, n_estimators=369; total time= 2.3min\n",
      "[CV] END bootstrap=True, max_depth=30, max_features=log2, max_leaf_nodes=38, min_samples_leaf=50, min_samples_split=10, n_estimators=369; total time= 2.3min\n",
      "[CV] END bootstrap=True, max_depth=30, max_features=log2, max_leaf_nodes=38, min_samples_leaf=50, min_samples_split=10, n_estimators=369; total time= 2.3min\n",
      "[CV] END bootstrap=True, max_depth=90, max_features=auto, max_leaf_nodes=36, min_samples_leaf=60, min_samples_split=5, n_estimators=577; total time= 8.4min\n",
      "[CV] END bootstrap=True, max_depth=90, max_features=auto, max_leaf_nodes=36, min_samples_leaf=60, min_samples_split=5, n_estimators=577; total time= 8.4min\n",
      "[CV] END bootstrap=True, max_depth=90, max_features=auto, max_leaf_nodes=36, min_samples_leaf=60, min_samples_split=5, n_estimators=577; total time= 8.5min\n",
      "[CV] END bootstrap=True, max_depth=40, max_features=auto, max_leaf_nodes=15, min_samples_leaf=60, min_samples_split=15, n_estimators=234; total time= 2.8min\n",
      "[CV] END bootstrap=True, max_depth=40, max_features=auto, max_leaf_nodes=15, min_samples_leaf=60, min_samples_split=15, n_estimators=234; total time= 2.8min\n",
      "[CV] END bootstrap=True, max_depth=40, max_features=auto, max_leaf_nodes=15, min_samples_leaf=60, min_samples_split=15, n_estimators=234; total time= 2.8min\n",
      "[CV] END bootstrap=True, max_depth=90, max_features=log2, max_leaf_nodes=28, min_samples_leaf=10, min_samples_split=10, n_estimators=430; total time= 2.6min\n",
      "[CV] END bootstrap=True, max_depth=90, max_features=log2, max_leaf_nodes=28, min_samples_leaf=10, min_samples_split=10, n_estimators=430; total time= 2.6min\n",
      "[CV] END bootstrap=True, max_depth=90, max_features=log2, max_leaf_nodes=28, min_samples_leaf=10, min_samples_split=10, n_estimators=430; total time= 2.6min\n",
      "[CV] END bootstrap=True, max_depth=60, max_features=log2, max_leaf_nodes=40, min_samples_leaf=40, min_samples_split=15, n_estimators=283; total time= 1.8min\n"
     ]
    },
    {
     "name": "stdout",
     "output_type": "stream",
     "text": [
      "[CV] END bootstrap=True, max_depth=60, max_features=log2, max_leaf_nodes=40, min_samples_leaf=40, min_samples_split=15, n_estimators=283; total time= 1.7min\n",
      "[CV] END bootstrap=True, max_depth=60, max_features=log2, max_leaf_nodes=40, min_samples_leaf=40, min_samples_split=15, n_estimators=283; total time= 1.8min\n",
      "[CV] END bootstrap=True, max_depth=50, max_features=log2, max_leaf_nodes=35, min_samples_leaf=4, min_samples_split=5, n_estimators=222; total time= 1.4min\n",
      "[CV] END bootstrap=True, max_depth=50, max_features=log2, max_leaf_nodes=35, min_samples_leaf=4, min_samples_split=5, n_estimators=222; total time= 1.4min\n",
      "[CV] END bootstrap=True, max_depth=50, max_features=log2, max_leaf_nodes=35, min_samples_leaf=4, min_samples_split=5, n_estimators=222; total time= 1.4min\n",
      "[CV] END bootstrap=True, max_depth=50, max_features=log2, max_leaf_nodes=33, min_samples_leaf=10, min_samples_split=10, n_estimators=283; total time= 1.7min\n",
      "[CV] END bootstrap=True, max_depth=50, max_features=log2, max_leaf_nodes=33, min_samples_leaf=10, min_samples_split=10, n_estimators=283; total time= 1.8min\n",
      "[CV] END bootstrap=True, max_depth=50, max_features=log2, max_leaf_nodes=33, min_samples_leaf=10, min_samples_split=10, n_estimators=283; total time= 1.7min\n",
      "[CV] END bootstrap=True, max_depth=110, max_features=log2, max_leaf_nodes=26, min_samples_leaf=50, min_samples_split=5, n_estimators=357; total time= 2.1min\n",
      "[CV] END bootstrap=True, max_depth=110, max_features=log2, max_leaf_nodes=26, min_samples_leaf=50, min_samples_split=5, n_estimators=357; total time= 2.2min\n",
      "[CV] END bootstrap=True, max_depth=110, max_features=log2, max_leaf_nodes=26, min_samples_leaf=50, min_samples_split=5, n_estimators=357; total time= 2.2min\n",
      "[CV] END bootstrap=True, max_depth=None, max_features=log2, max_leaf_nodes=16, min_samples_leaf=10, min_samples_split=2, n_estimators=393; total time= 2.3min\n",
      "[CV] END bootstrap=True, max_depth=None, max_features=log2, max_leaf_nodes=16, min_samples_leaf=10, min_samples_split=2, n_estimators=393; total time= 2.3min\n",
      "[CV] END bootstrap=True, max_depth=None, max_features=log2, max_leaf_nodes=16, min_samples_leaf=10, min_samples_split=2, n_estimators=393; total time= 2.3min\n",
      "[CV] END bootstrap=True, max_depth=80, max_features=auto, max_leaf_nodes=12, min_samples_leaf=4, min_samples_split=2, n_estimators=565; total time= 6.4min\n",
      "[CV] END bootstrap=True, max_depth=80, max_features=auto, max_leaf_nodes=12, min_samples_leaf=4, min_samples_split=2, n_estimators=565; total time= 6.5min\n",
      "[CV] END bootstrap=True, max_depth=80, max_features=auto, max_leaf_nodes=12, min_samples_leaf=4, min_samples_split=2, n_estimators=565; total time= 6.5min\n",
      "[CV] END bootstrap=True, max_depth=30, max_features=auto, max_leaf_nodes=36, min_samples_leaf=30, min_samples_split=2, n_estimators=589; total time= 8.6min\n",
      "[CV] END bootstrap=True, max_depth=30, max_features=auto, max_leaf_nodes=36, min_samples_leaf=30, min_samples_split=2, n_estimators=589; total time= 8.6min\n",
      "[CV] END bootstrap=True, max_depth=30, max_features=auto, max_leaf_nodes=36, min_samples_leaf=30, min_samples_split=2, n_estimators=589; total time= 8.7min\n",
      "[CV] END bootstrap=True, max_depth=90, max_features=auto, max_leaf_nodes=22, min_samples_leaf=10, min_samples_split=10, n_estimators=663; total time= 8.7min\n",
      "[CV] END bootstrap=True, max_depth=90, max_features=auto, max_leaf_nodes=22, min_samples_leaf=10, min_samples_split=10, n_estimators=663; total time= 8.8min\n",
      "[CV] END bootstrap=True, max_depth=90, max_features=auto, max_leaf_nodes=22, min_samples_leaf=10, min_samples_split=10, n_estimators=663; total time= 8.8min\n",
      "[CV] END bootstrap=True, max_depth=100, max_features=auto, max_leaf_nodes=34, min_samples_leaf=30, min_samples_split=2, n_estimators=283; total time= 4.1min\n",
      "[CV] END bootstrap=True, max_depth=100, max_features=auto, max_leaf_nodes=34, min_samples_leaf=30, min_samples_split=2, n_estimators=283; total time= 4.0min\n",
      "[CV] END bootstrap=True, max_depth=100, max_features=auto, max_leaf_nodes=34, min_samples_leaf=30, min_samples_split=2, n_estimators=283; total time= 4.1min\n",
      "[CV] END bootstrap=True, max_depth=70, max_features=log2, max_leaf_nodes=36, min_samples_leaf=30, min_samples_split=10, n_estimators=479; total time= 2.9min\n",
      "[CV] END bootstrap=True, max_depth=70, max_features=log2, max_leaf_nodes=36, min_samples_leaf=30, min_samples_split=10, n_estimators=479; total time= 2.9min\n",
      "[CV] END bootstrap=True, max_depth=70, max_features=log2, max_leaf_nodes=36, min_samples_leaf=30, min_samples_split=10, n_estimators=479; total time= 3.0min\n",
      "[CV] END bootstrap=True, max_depth=70, max_features=auto, max_leaf_nodes=27, min_samples_leaf=30, min_samples_split=10, n_estimators=565; total time= 7.8min\n",
      "[CV] END bootstrap=True, max_depth=70, max_features=auto, max_leaf_nodes=27, min_samples_leaf=30, min_samples_split=10, n_estimators=565; total time= 7.8min\n",
      "[CV] END bootstrap=True, max_depth=70, max_features=auto, max_leaf_nodes=27, min_samples_leaf=30, min_samples_split=10, n_estimators=565; total time= 7.9min\n",
      "[CV] END bootstrap=True, max_depth=None, max_features=auto, max_leaf_nodes=12, min_samples_leaf=4, min_samples_split=5, n_estimators=100; total time= 1.2min\n",
      "[CV] END bootstrap=True, max_depth=None, max_features=auto, max_leaf_nodes=12, min_samples_leaf=4, min_samples_split=5, n_estimators=100; total time= 1.2min\n",
      "[CV] END bootstrap=True, max_depth=None, max_features=auto, max_leaf_nodes=12, min_samples_leaf=4, min_samples_split=5, n_estimators=100; total time= 1.2min\n",
      "[CV] END bootstrap=True, max_depth=100, max_features=auto, max_leaf_nodes=44, min_samples_leaf=50, min_samples_split=10, n_estimators=357; total time= 5.3min\n",
      "[CV] END bootstrap=True, max_depth=100, max_features=auto, max_leaf_nodes=44, min_samples_leaf=50, min_samples_split=10, n_estimators=357; total time= 5.9min\n",
      "[CV] END bootstrap=True, max_depth=100, max_features=auto, max_leaf_nodes=44, min_samples_leaf=50, min_samples_split=10, n_estimators=357; total time= 5.9min\n",
      "[CV] END bootstrap=True, max_depth=70, max_features=auto, max_leaf_nodes=25, min_samples_leaf=40, min_samples_split=2, n_estimators=577; total time= 8.5min\n",
      "[CV] END bootstrap=True, max_depth=70, max_features=auto, max_leaf_nodes=25, min_samples_leaf=40, min_samples_split=2, n_estimators=577; total time= 8.5min\n",
      "[CV] END bootstrap=True, max_depth=70, max_features=auto, max_leaf_nodes=25, min_samples_leaf=40, min_samples_split=2, n_estimators=577; total time= 8.6min\n",
      "[CV] END bootstrap=True, max_depth=10, max_features=log2, max_leaf_nodes=13, min_samples_leaf=40, min_samples_split=15, n_estimators=161; total time=  59.8s\n",
      "[CV] END bootstrap=True, max_depth=10, max_features=log2, max_leaf_nodes=13, min_samples_leaf=40, min_samples_split=15, n_estimators=161; total time= 1.0min\n",
      "[CV] END bootstrap=True, max_depth=10, max_features=log2, max_leaf_nodes=13, min_samples_leaf=40, min_samples_split=15, n_estimators=161; total time= 1.0min\n",
      "[CV] END bootstrap=True, max_depth=20, max_features=auto, max_leaf_nodes=36, min_samples_leaf=10, min_samples_split=2, n_estimators=528; total time= 7.6min\n",
      "[CV] END bootstrap=True, max_depth=20, max_features=auto, max_leaf_nodes=36, min_samples_leaf=10, min_samples_split=2, n_estimators=528; total time=35.8min\n",
      "[CV] END bootstrap=True, max_depth=20, max_features=auto, max_leaf_nodes=36, min_samples_leaf=10, min_samples_split=2, n_estimators=528; total time=76.5min\n",
      "[CV] END bootstrap=True, max_depth=30, max_features=log2, max_leaf_nodes=23, min_samples_leaf=40, min_samples_split=10, n_estimators=295; total time= 2.3min\n",
      "[CV] END bootstrap=True, max_depth=30, max_features=log2, max_leaf_nodes=23, min_samples_leaf=40, min_samples_split=10, n_estimators=295; total time= 2.3min\n",
      "[CV] END bootstrap=True, max_depth=30, max_features=log2, max_leaf_nodes=23, min_samples_leaf=40, min_samples_split=10, n_estimators=295; total time= 2.7min\n",
      "[CV] END bootstrap=True, max_depth=20, max_features=auto, max_leaf_nodes=40, min_samples_leaf=40, min_samples_split=15, n_estimators=246; total time=14.7min\n",
      "[CV] END bootstrap=True, max_depth=20, max_features=auto, max_leaf_nodes=40, min_samples_leaf=40, min_samples_split=15, n_estimators=246; total time=24.8min\n",
      "[CV] END bootstrap=True, max_depth=20, max_features=auto, max_leaf_nodes=40, min_samples_leaf=40, min_samples_split=15, n_estimators=246; total time= 3.7min\n"
     ]
    },
    {
     "name": "stdout",
     "output_type": "stream",
     "text": [
      "[CV] END bootstrap=True, max_depth=40, max_features=log2, max_leaf_nodes=36, min_samples_leaf=10, min_samples_split=5, n_estimators=148; total time=  53.4s\n",
      "[CV] END bootstrap=True, max_depth=40, max_features=log2, max_leaf_nodes=36, min_samples_leaf=10, min_samples_split=5, n_estimators=148; total time=  53.9s\n",
      "[CV] END bootstrap=True, max_depth=40, max_features=log2, max_leaf_nodes=36, min_samples_leaf=10, min_samples_split=5, n_estimators=148; total time=  56.0s\n",
      "[CV] END bootstrap=True, max_depth=60, max_features=log2, max_leaf_nodes=16, min_samples_leaf=30, min_samples_split=2, n_estimators=406; total time= 2.2min\n",
      "[CV] END bootstrap=True, max_depth=60, max_features=log2, max_leaf_nodes=16, min_samples_leaf=30, min_samples_split=2, n_estimators=406; total time= 2.3min\n",
      "[CV] END bootstrap=True, max_depth=60, max_features=log2, max_leaf_nodes=16, min_samples_leaf=30, min_samples_split=2, n_estimators=406; total time= 2.3min\n",
      "[CV] END bootstrap=True, max_depth=50, max_features=auto, max_leaf_nodes=25, min_samples_leaf=4, min_samples_split=2, n_estimators=381; total time= 5.2min\n",
      "[CV] END bootstrap=True, max_depth=50, max_features=auto, max_leaf_nodes=25, min_samples_leaf=4, min_samples_split=2, n_estimators=381; total time= 5.1min\n",
      "[CV] END bootstrap=True, max_depth=50, max_features=auto, max_leaf_nodes=25, min_samples_leaf=4, min_samples_split=2, n_estimators=381; total time= 5.2min\n",
      "[CV] END bootstrap=True, max_depth=None, max_features=log2, max_leaf_nodes=33, min_samples_leaf=60, min_samples_split=2, n_estimators=332; total time= 2.0min\n",
      "[CV] END bootstrap=True, max_depth=None, max_features=log2, max_leaf_nodes=33, min_samples_leaf=60, min_samples_split=2, n_estimators=332; total time= 2.0min\n",
      "[CV] END bootstrap=True, max_depth=None, max_features=log2, max_leaf_nodes=33, min_samples_leaf=60, min_samples_split=2, n_estimators=332; total time= 2.0min\n",
      "[CV] END bootstrap=True, max_depth=90, max_features=log2, max_leaf_nodes=18, min_samples_leaf=10, min_samples_split=10, n_estimators=479; total time= 2.7min\n",
      "[CV] END bootstrap=True, max_depth=90, max_features=log2, max_leaf_nodes=18, min_samples_leaf=10, min_samples_split=10, n_estimators=479; total time= 2.9min\n",
      "[CV] END bootstrap=True, max_depth=90, max_features=log2, max_leaf_nodes=18, min_samples_leaf=10, min_samples_split=10, n_estimators=479; total time= 2.9min\n",
      "[CV] END bootstrap=True, max_depth=50, max_features=log2, max_leaf_nodes=24, min_samples_leaf=4, min_samples_split=2, n_estimators=124; total time=  47.4s\n",
      "[CV] END bootstrap=True, max_depth=50, max_features=log2, max_leaf_nodes=24, min_samples_leaf=4, min_samples_split=2, n_estimators=124; total time=  43.6s\n",
      "[CV] END bootstrap=True, max_depth=50, max_features=log2, max_leaf_nodes=24, min_samples_leaf=4, min_samples_split=2, n_estimators=124; total time=  44.0s\n",
      "[CV] END bootstrap=True, max_depth=30, max_features=log2, max_leaf_nodes=26, min_samples_leaf=60, min_samples_split=10, n_estimators=320; total time= 2.0min\n",
      "[CV] END bootstrap=True, max_depth=30, max_features=log2, max_leaf_nodes=26, min_samples_leaf=60, min_samples_split=10, n_estimators=320; total time= 2.2min\n",
      "[CV] END bootstrap=True, max_depth=30, max_features=log2, max_leaf_nodes=26, min_samples_leaf=60, min_samples_split=10, n_estimators=320; total time= 2.1min\n",
      "[CV] END bootstrap=True, max_depth=60, max_features=log2, max_leaf_nodes=16, min_samples_leaf=40, min_samples_split=2, n_estimators=295; total time= 1.8min\n",
      "[CV] END bootstrap=True, max_depth=60, max_features=log2, max_leaf_nodes=16, min_samples_leaf=40, min_samples_split=2, n_estimators=295; total time= 1.7min\n",
      "[CV] END bootstrap=True, max_depth=60, max_features=log2, max_leaf_nodes=16, min_samples_leaf=40, min_samples_split=2, n_estimators=295; total time= 1.7min\n",
      "[CV] END bootstrap=True, max_depth=80, max_features=auto, max_leaf_nodes=42, min_samples_leaf=60, min_samples_split=5, n_estimators=234; total time= 3.5min\n",
      "[CV] END bootstrap=True, max_depth=80, max_features=auto, max_leaf_nodes=42, min_samples_leaf=60, min_samples_split=5, n_estimators=234; total time= 3.6min\n",
      "[CV] END bootstrap=True, max_depth=80, max_features=auto, max_leaf_nodes=42, min_samples_leaf=60, min_samples_split=5, n_estimators=234; total time= 4.1min\n",
      "[CV] END bootstrap=True, max_depth=None, max_features=log2, max_leaf_nodes=47, min_samples_leaf=30, min_samples_split=5, n_estimators=626; total time= 4.2min\n",
      "[CV] END bootstrap=True, max_depth=None, max_features=log2, max_leaf_nodes=47, min_samples_leaf=30, min_samples_split=5, n_estimators=626; total time= 3.9min\n",
      "[CV] END bootstrap=True, max_depth=None, max_features=log2, max_leaf_nodes=47, min_samples_leaf=30, min_samples_split=5, n_estimators=626; total time= 3.8min\n",
      "[CV] END bootstrap=True, max_depth=10, max_features=auto, max_leaf_nodes=44, min_samples_leaf=4, min_samples_split=10, n_estimators=553; total time= 8.0min\n",
      "[CV] END bootstrap=True, max_depth=10, max_features=auto, max_leaf_nodes=44, min_samples_leaf=4, min_samples_split=10, n_estimators=553; total time= 7.8min\n",
      "[CV] END bootstrap=True, max_depth=10, max_features=auto, max_leaf_nodes=44, min_samples_leaf=4, min_samples_split=10, n_estimators=553; total time= 7.7min\n",
      "[CV] END bootstrap=True, max_depth=70, max_features=auto, max_leaf_nodes=45, min_samples_leaf=40, min_samples_split=15, n_estimators=357; total time=13.0min\n",
      "[CV] END bootstrap=True, max_depth=70, max_features=auto, max_leaf_nodes=45, min_samples_leaf=40, min_samples_split=15, n_estimators=357; total time= 5.4min\n",
      "[CV] END bootstrap=True, max_depth=70, max_features=auto, max_leaf_nodes=45, min_samples_leaf=40, min_samples_split=15, n_estimators=357; total time= 5.4min\n",
      "[CV] END bootstrap=True, max_depth=70, max_features=log2, max_leaf_nodes=36, min_samples_leaf=40, min_samples_split=2, n_estimators=516; total time= 3.8min\n",
      "[CV] END bootstrap=True, max_depth=70, max_features=log2, max_leaf_nodes=36, min_samples_leaf=40, min_samples_split=2, n_estimators=516; total time= 3.3min\n",
      "[CV] END bootstrap=True, max_depth=70, max_features=log2, max_leaf_nodes=36, min_samples_leaf=40, min_samples_split=2, n_estimators=516; total time= 3.1min\n",
      "[CV] END bootstrap=True, max_depth=90, max_features=log2, max_leaf_nodes=31, min_samples_leaf=30, min_samples_split=15, n_estimators=406; total time= 2.6min\n",
      "[CV] END bootstrap=True, max_depth=90, max_features=log2, max_leaf_nodes=31, min_samples_leaf=30, min_samples_split=15, n_estimators=406; total time= 3.0min\n",
      "[CV] END bootstrap=True, max_depth=90, max_features=log2, max_leaf_nodes=31, min_samples_leaf=30, min_samples_split=15, n_estimators=406; total time= 2.7min\n",
      "[CV] END bootstrap=True, max_depth=10, max_features=log2, max_leaf_nodes=21, min_samples_leaf=40, min_samples_split=10, n_estimators=467; total time= 3.0min\n",
      "[CV] END bootstrap=True, max_depth=10, max_features=log2, max_leaf_nodes=21, min_samples_leaf=40, min_samples_split=10, n_estimators=467; total time= 3.0min\n",
      "[CV] END bootstrap=True, max_depth=10, max_features=log2, max_leaf_nodes=21, min_samples_leaf=40, min_samples_split=10, n_estimators=467; total time= 4.1min\n"
     ]
    },
    {
     "data": {
      "text/plain": [
       "{'n_estimators': 308,\n",
       " 'min_samples_split': 15,\n",
       " 'min_samples_leaf': 10,\n",
       " 'max_leaf_nodes': 49,\n",
       " 'max_features': 'auto',\n",
       " 'max_depth': 60,\n",
       " 'bootstrap': True}"
      ]
     },
     "execution_count": 21,
     "metadata": {},
     "output_type": "execute_result"
    }
   ],
   "source": [
    "\"\"\"\n",
    "# Create base model to tune\n",
    "rf = RandomForestClassifier(oob_score=True)\n",
    "# Create random search model and fit the data\n",
    "rf_random = RandomizedSearchCV(\n",
    "                        estimator = rf,\n",
    "                        param_distributions = random_grid,\n",
    "                        n_iter = 50, cv = 3,\n",
    "                        verbose=2, \n",
    "                        random_state=seed, \n",
    "                        scoring='accuracy')\n",
    "rf_random.fit(X_train, Y_train)\n",
    "rf_random.best_params_\n",
    "\"\"\""
   ]
  },
  {
   "cell_type": "markdown",
   "metadata": {
    "id": "L-RmbusT5NNS"
   },
   "source": [
    "{'n_estimators': 308,\n",
    " 'min_samples_split': 15,\n",
    " 'min_samples_leaf': 10,\n",
    " 'max_leaf_nodes': 49,\n",
    " 'max_features': 'auto',\n",
    " 'max_depth': 60,\n",
    " 'bootstrap': True}"
   ]
  },
  {
   "cell_type": "code",
   "execution_count": 22,
   "metadata": {
    "id": "b5e8KVj9Q9Tn"
   },
   "outputs": [],
   "source": [
    "\"\"\"\n",
    "# Use the best model after tuning\n",
    "best_model = rf_random.best_estimator_\n",
    "best_model.fit(X_train, Y_train)\n",
    "y_pred_best_model = best_model.predict(X_test)\n",
    "\"\"\""
   ]
  },
  {
   "cell_type": "code",
   "execution_count": 23,
   "metadata": {
    "colab": {
     "base_uri": "https://localhost:8080/"
    },
    "id": "mad277kE7NDo",
    "outputId": "859b3f8d-d0db-4586-b443-01e99ef7e2e2"
   },
   "outputs": [
    {
     "data": {
      "text/plain": [
       "0.6656130427549493"
      ]
     },
     "execution_count": 23,
     "metadata": {},
     "output_type": "execute_result"
    }
   ],
   "source": [
    "#best_model.score(X_test, Y_test)"
   ]
  }
 ],
 "metadata": {
  "colab": {
   "collapsed_sections": [],
   "name": "W207 Final Project.ipynb",
   "provenance": []
  },
  "kernelspec": {
   "display_name": "Python 3 (ipykernel)",
   "language": "python",
   "name": "python3"
  },
  "language_info": {
   "codemirror_mode": {
    "name": "ipython",
    "version": 3
   },
   "file_extension": ".py",
   "mimetype": "text/x-python",
   "name": "python",
   "nbconvert_exporter": "python",
   "pygments_lexer": "ipython3",
   "version": "3.9.12"
  }
 },
 "nbformat": 4,
 "nbformat_minor": 1
}
